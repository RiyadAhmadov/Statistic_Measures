{
 "cells": [
  {
   "cell_type": "code",
   "execution_count": 111,
   "id": "6d7f4a9a",
   "metadata": {},
   "outputs": [],
   "source": [
    "import pandas as pd"
   ]
  },
  {
   "cell_type": "code",
   "execution_count": 112,
   "id": "e54c377e",
   "metadata": {},
   "outputs": [],
   "source": [
    "df = pd.read_csv('w5.csv')"
   ]
  },
  {
   "cell_type": "code",
   "execution_count": 113,
   "id": "0d268c7b",
   "metadata": {},
   "outputs": [
    {
     "data": {
      "text/html": [
       "<div>\n",
       "<style scoped>\n",
       "    .dataframe tbody tr th:only-of-type {\n",
       "        vertical-align: middle;\n",
       "    }\n",
       "\n",
       "    .dataframe tbody tr th {\n",
       "        vertical-align: top;\n",
       "    }\n",
       "\n",
       "    .dataframe thead th {\n",
       "        text-align: right;\n",
       "    }\n",
       "</style>\n",
       "<table border=\"1\" class=\"dataframe\">\n",
       "  <thead>\n",
       "    <tr style=\"text-align: right;\">\n",
       "      <th></th>\n",
       "      <th>rev_Mean</th>\n",
       "      <th>mou_Mean</th>\n",
       "      <th>totmrc_Mean</th>\n",
       "      <th>da_Mean</th>\n",
       "      <th>ovrmou_Mean</th>\n",
       "      <th>ovrrev_Mean</th>\n",
       "      <th>vceovr_Mean</th>\n",
       "      <th>datovr_Mean</th>\n",
       "      <th>roam_Mean</th>\n",
       "      <th>change_mou</th>\n",
       "      <th>...</th>\n",
       "      <th>forgntvl</th>\n",
       "      <th>ethnic</th>\n",
       "      <th>kid0_2</th>\n",
       "      <th>kid3_5</th>\n",
       "      <th>kid6_10</th>\n",
       "      <th>kid11_15</th>\n",
       "      <th>kid16_17</th>\n",
       "      <th>creditcd</th>\n",
       "      <th>eqpdays</th>\n",
       "      <th>Customer_ID</th>\n",
       "    </tr>\n",
       "  </thead>\n",
       "  <tbody>\n",
       "    <tr>\n",
       "      <th>0</th>\n",
       "      <td>23.9975</td>\n",
       "      <td>219.25</td>\n",
       "      <td>22.500</td>\n",
       "      <td>0.2475</td>\n",
       "      <td>0.00</td>\n",
       "      <td>0.0</td>\n",
       "      <td>0.0</td>\n",
       "      <td>0.0</td>\n",
       "      <td>0.0</td>\n",
       "      <td>-157.25</td>\n",
       "      <td>...</td>\n",
       "      <td>0.0</td>\n",
       "      <td>N</td>\n",
       "      <td>U</td>\n",
       "      <td>U</td>\n",
       "      <td>U</td>\n",
       "      <td>U</td>\n",
       "      <td>U</td>\n",
       "      <td>Y</td>\n",
       "      <td>361</td>\n",
       "      <td>1000001</td>\n",
       "    </tr>\n",
       "    <tr>\n",
       "      <th>1</th>\n",
       "      <td>57.4925</td>\n",
       "      <td>482.75</td>\n",
       "      <td>37.425</td>\n",
       "      <td>0.2475</td>\n",
       "      <td>22.75</td>\n",
       "      <td>9.1</td>\n",
       "      <td>9.1</td>\n",
       "      <td>0.0</td>\n",
       "      <td>0.0</td>\n",
       "      <td>532.25</td>\n",
       "      <td>...</td>\n",
       "      <td>0.0</td>\n",
       "      <td>Z</td>\n",
       "      <td>U</td>\n",
       "      <td>U</td>\n",
       "      <td>U</td>\n",
       "      <td>U</td>\n",
       "      <td>U</td>\n",
       "      <td>Y</td>\n",
       "      <td>240</td>\n",
       "      <td>1000002</td>\n",
       "    </tr>\n",
       "    <tr>\n",
       "      <th>2</th>\n",
       "      <td>16.9900</td>\n",
       "      <td>10.25</td>\n",
       "      <td>16.990</td>\n",
       "      <td>0.0000</td>\n",
       "      <td>0.00</td>\n",
       "      <td>0.0</td>\n",
       "      <td>0.0</td>\n",
       "      <td>0.0</td>\n",
       "      <td>0.0</td>\n",
       "      <td>-4.25</td>\n",
       "      <td>...</td>\n",
       "      <td>0.0</td>\n",
       "      <td>N</td>\n",
       "      <td>U</td>\n",
       "      <td>Y</td>\n",
       "      <td>U</td>\n",
       "      <td>U</td>\n",
       "      <td>U</td>\n",
       "      <td>Y</td>\n",
       "      <td>1504</td>\n",
       "      <td>1000003</td>\n",
       "    </tr>\n",
       "    <tr>\n",
       "      <th>3</th>\n",
       "      <td>38.0000</td>\n",
       "      <td>7.50</td>\n",
       "      <td>38.000</td>\n",
       "      <td>0.0000</td>\n",
       "      <td>0.00</td>\n",
       "      <td>0.0</td>\n",
       "      <td>0.0</td>\n",
       "      <td>0.0</td>\n",
       "      <td>0.0</td>\n",
       "      <td>-1.50</td>\n",
       "      <td>...</td>\n",
       "      <td>0.0</td>\n",
       "      <td>U</td>\n",
       "      <td>Y</td>\n",
       "      <td>U</td>\n",
       "      <td>U</td>\n",
       "      <td>U</td>\n",
       "      <td>U</td>\n",
       "      <td>Y</td>\n",
       "      <td>1812</td>\n",
       "      <td>1000004</td>\n",
       "    </tr>\n",
       "    <tr>\n",
       "      <th>4</th>\n",
       "      <td>55.2300</td>\n",
       "      <td>570.50</td>\n",
       "      <td>71.980</td>\n",
       "      <td>0.0000</td>\n",
       "      <td>0.00</td>\n",
       "      <td>0.0</td>\n",
       "      <td>0.0</td>\n",
       "      <td>0.0</td>\n",
       "      <td>0.0</td>\n",
       "      <td>38.50</td>\n",
       "      <td>...</td>\n",
       "      <td>0.0</td>\n",
       "      <td>I</td>\n",
       "      <td>U</td>\n",
       "      <td>U</td>\n",
       "      <td>U</td>\n",
       "      <td>U</td>\n",
       "      <td>U</td>\n",
       "      <td>Y</td>\n",
       "      <td>434</td>\n",
       "      <td>1000005</td>\n",
       "    </tr>\n",
       "  </tbody>\n",
       "</table>\n",
       "<p>5 rows × 100 columns</p>\n",
       "</div>"
      ],
      "text/plain": [
       "   rev_Mean  mou_Mean  totmrc_Mean  da_Mean  ovrmou_Mean  ovrrev_Mean  \\\n",
       "0   23.9975    219.25       22.500   0.2475         0.00          0.0   \n",
       "1   57.4925    482.75       37.425   0.2475        22.75          9.1   \n",
       "2   16.9900     10.25       16.990   0.0000         0.00          0.0   \n",
       "3   38.0000      7.50       38.000   0.0000         0.00          0.0   \n",
       "4   55.2300    570.50       71.980   0.0000         0.00          0.0   \n",
       "\n",
       "   vceovr_Mean  datovr_Mean  roam_Mean  change_mou  ...  forgntvl  ethnic  \\\n",
       "0          0.0          0.0        0.0     -157.25  ...       0.0       N   \n",
       "1          9.1          0.0        0.0      532.25  ...       0.0       Z   \n",
       "2          0.0          0.0        0.0       -4.25  ...       0.0       N   \n",
       "3          0.0          0.0        0.0       -1.50  ...       0.0       U   \n",
       "4          0.0          0.0        0.0       38.50  ...       0.0       I   \n",
       "\n",
       "   kid0_2  kid3_5  kid6_10  kid11_15  kid16_17  creditcd  eqpdays  Customer_ID  \n",
       "0       U       U        U         U         U         Y      361      1000001  \n",
       "1       U       U        U         U         U         Y      240      1000002  \n",
       "2       U       Y        U         U         U         Y     1504      1000003  \n",
       "3       Y       U        U         U         U         Y     1812      1000004  \n",
       "4       U       U        U         U         U         Y      434      1000005  \n",
       "\n",
       "[5 rows x 100 columns]"
      ]
     },
     "execution_count": 113,
     "metadata": {},
     "output_type": "execute_result"
    }
   ],
   "source": [
    "df.head()"
   ]
  },
  {
   "cell_type": "markdown",
   "id": "e59921f7",
   "metadata": {},
   "source": [
    "# -- Mean"
   ]
  },
  {
   "cell_type": "code",
   "execution_count": 114,
   "id": "514a4d39",
   "metadata": {},
   "outputs": [
    {
     "data": {
      "text/plain": [
       "rev_Mean        59.550594\n",
       "mou_Mean       474.467098\n",
       "totmrc_Mean     45.814314\n",
       "da_Mean          0.946605\n",
       "dtype: float64"
      ]
     },
     "execution_count": 114,
     "metadata": {},
     "output_type": "execute_result"
    }
   ],
   "source": [
    "df[['rev_Mean','mou_Mean','totmrc_Mean' ,'da_Mean']].mean()"
   ]
  },
  {
   "cell_type": "markdown",
   "id": "d1d3806c",
   "metadata": {},
   "source": [
    "# -- Median"
   ]
  },
  {
   "cell_type": "code",
   "execution_count": 115,
   "id": "9de75051",
   "metadata": {},
   "outputs": [
    {
     "data": {
      "text/plain": [
       "rev_Mean        47.5000\n",
       "mou_Mean       296.7500\n",
       "totmrc_Mean     39.9900\n",
       "da_Mean          0.2475\n",
       "dtype: float64"
      ]
     },
     "execution_count": 115,
     "metadata": {},
     "output_type": "execute_result"
    }
   ],
   "source": [
    "df[['rev_Mean','mou_Mean','totmrc_Mean' ,'da_Mean']].median()"
   ]
  },
  {
   "cell_type": "markdown",
   "id": "dbf77746",
   "metadata": {},
   "source": [
    "# -- Mode"
   ]
  },
  {
   "cell_type": "code",
   "execution_count": 116,
   "id": "07f42635",
   "metadata": {},
   "outputs": [
    {
     "data": {
      "text/html": [
       "<div>\n",
       "<style scoped>\n",
       "    .dataframe tbody tr th:only-of-type {\n",
       "        vertical-align: middle;\n",
       "    }\n",
       "\n",
       "    .dataframe tbody tr th {\n",
       "        vertical-align: top;\n",
       "    }\n",
       "\n",
       "    .dataframe thead th {\n",
       "        text-align: right;\n",
       "    }\n",
       "</style>\n",
       "<table border=\"1\" class=\"dataframe\">\n",
       "  <thead>\n",
       "    <tr style=\"text-align: right;\">\n",
       "      <th></th>\n",
       "      <th>rev_Mean</th>\n",
       "      <th>mou_Mean</th>\n",
       "      <th>totmrc_Mean</th>\n",
       "      <th>da_Mean</th>\n",
       "    </tr>\n",
       "  </thead>\n",
       "  <tbody>\n",
       "    <tr>\n",
       "      <th>0</th>\n",
       "      <td>29.99</td>\n",
       "      <td>0.0</td>\n",
       "      <td>29.99</td>\n",
       "      <td>0.0</td>\n",
       "    </tr>\n",
       "  </tbody>\n",
       "</table>\n",
       "</div>"
      ],
      "text/plain": [
       "   rev_Mean  mou_Mean  totmrc_Mean  da_Mean\n",
       "0     29.99       0.0        29.99      0.0"
      ]
     },
     "execution_count": 116,
     "metadata": {},
     "output_type": "execute_result"
    }
   ],
   "source": [
    "df[['rev_Mean','mou_Mean','totmrc_Mean' ,'da_Mean']].mode()"
   ]
  },
  {
   "cell_type": "markdown",
   "id": "b46d5cdb",
   "metadata": {},
   "source": [
    "# -- Quartile"
   ]
  },
  {
   "cell_type": "code",
   "execution_count": 117,
   "id": "997ea4bf",
   "metadata": {},
   "outputs": [],
   "source": [
    "import numpy as np"
   ]
  },
  {
   "cell_type": "code",
   "execution_count": 118,
   "id": "6c9c2843",
   "metadata": {},
   "outputs": [],
   "source": [
    "\n",
    "df.dropna(inplace = True)"
   ]
  },
  {
   "cell_type": "markdown",
   "id": "c0e38222",
   "metadata": {},
   "source": [
    "## -- Quartile 1"
   ]
  },
  {
   "cell_type": "code",
   "execution_count": 119,
   "id": "6b30537a",
   "metadata": {},
   "outputs": [
    {
     "data": {
      "text/plain": [
       "0.0"
      ]
     },
     "execution_count": 119,
     "metadata": {},
     "output_type": "execute_result"
    }
   ],
   "source": [
    "Quartile_1_rev_Mean = np.percentile(df['rev_Mean'],25)\n",
    "Quartile_1_rev_Mean\n",
    "Quartile_1_mou_Mean = np.percentile(df['mou_Mean'],25)\n",
    "Quartile_1_mou_Mean\n",
    "Quartile_1_totmrc_Mean = np.percentile(df['totmrc_Mean'],25)\n",
    "Quartile_1_totmrc_Mean\n",
    "Quartile_1_da_Mean = np.percentile(df['da_Mean'],25)\n",
    "Quartile_1_da_Mean"
   ]
  },
  {
   "cell_type": "markdown",
   "id": "9306400f",
   "metadata": {},
   "source": [
    "## -- Quartile 3"
   ]
  },
  {
   "cell_type": "code",
   "execution_count": 120,
   "id": "6f52d34e",
   "metadata": {},
   "outputs": [
    {
     "data": {
      "text/plain": [
       "0.99"
      ]
     },
     "execution_count": 120,
     "metadata": {},
     "output_type": "execute_result"
    }
   ],
   "source": [
    "Quartile_3_rev_Mean = np.percentile(df['rev_Mean'],75)\n",
    "Quartile_3_rev_Mean\n",
    "Quartile_3_mou_Mean = np.percentile(df['mou_Mean'],75)\n",
    "Quartile_3_mou_Mean\n",
    "Quartile_3_totmrc_Mean = np.percentile(df['totmrc_Mean'],75)\n",
    "Quartile_3_totmrc_Mean\n",
    "Quartile_3_da_Mean = np.percentile(df['da_Mean'],75)\n",
    "Quartile_3_da_Mean"
   ]
  },
  {
   "cell_type": "markdown",
   "id": "663f44ff",
   "metadata": {},
   "source": [
    "## -- IQR"
   ]
  },
  {
   "cell_type": "code",
   "execution_count": 121,
   "id": "2e26b129",
   "metadata": {},
   "outputs": [
    {
     "data": {
      "text/plain": [
       "0.99"
      ]
     },
     "execution_count": 121,
     "metadata": {},
     "output_type": "execute_result"
    }
   ],
   "source": [
    "iqr_rev_Mean = Quartile_3_rev_Mean - Quartile_1_rev_Mean\n",
    "iqr_rev_Mean\n",
    "iqr_mou_Mean = Quartile_3_mou_Mean - Quartile_1_mou_Mean\n",
    "iqr_mou_Mean \n",
    "iqr_totmrc_Mean = Quartile_3_totmrc_Mean - Quartile_1_totmrc_Mean\n",
    "iqr_totmrc_Mean\n",
    "iqr_da_Mean = Quartile_3_da_Mean - Quartile_1_da_Mean\n",
    "iqr_da_Mean"
   ]
  },
  {
   "cell_type": "markdown",
   "id": "61337d35",
   "metadata": {},
   "source": [
    "## -- Standart deviation"
   ]
  },
  {
   "cell_type": "code",
   "execution_count": 122,
   "id": "44d495f6",
   "metadata": {},
   "outputs": [
    {
     "data": {
      "text/plain": [
       "2.6255421755875403"
      ]
     },
     "execution_count": 122,
     "metadata": {},
     "output_type": "execute_result"
    }
   ],
   "source": [
    "df['rev_Mean'].std()\n",
    "df['mou_Mean'].std()\n",
    "df['totmrc_Mean'].std()\n",
    "df['da_Mean'].std()"
   ]
  },
  {
   "cell_type": "markdown",
   "id": "88ffe5a0",
   "metadata": {},
   "source": [
    "## -- Below Outlier (First method)"
   ]
  },
  {
   "cell_type": "code",
   "execution_count": 123,
   "id": "ef459dd8",
   "metadata": {},
   "outputs": [
    {
     "data": {
      "text/plain": [
       "-1.4849999999999999"
      ]
     },
     "execution_count": 123,
     "metadata": {},
     "output_type": "execute_result"
    }
   ],
   "source": [
    "below_outlier_rev_Mean = Quartile_1_rev_Mean - 1.5 * iqr_rev_Mean\n",
    "below_outlier_rev_Mean\n",
    "below_outlier_mou_Mean = Quartile_1_mou_Mean - 1.5 * iqr_mou_Mean\n",
    "below_outlier_mou_Mean \n",
    "below_outlier_totmrc_Mean = Quartile_1_totmrc_Mean - 1.5 * iqr_totmrc_Mean\n",
    "below_outlier_totmrc_Mean\n",
    "below_outlier_da_Mean = Quartile_1_da_Mean - 1.5 * iqr_da_Mean\n",
    "below_outlier_da_Mean"
   ]
  },
  {
   "cell_type": "markdown",
   "id": "67689c6b",
   "metadata": {},
   "source": [
    "## -- Above outlier (First method)"
   ]
  },
  {
   "cell_type": "code",
   "execution_count": 22,
   "id": "8edc117d",
   "metadata": {},
   "outputs": [
    {
     "data": {
      "text/plain": [
       "1.8562500000000002"
      ]
     },
     "execution_count": 22,
     "metadata": {},
     "output_type": "execute_result"
    }
   ],
   "source": [
    "above_outlier_rev_Mean = Quartile_3_rev_Mean + 1.5 * iqr_rev_Mean\n",
    "above_outlier_rev_Mean\n",
    "above_outlier_mou_Mean = Quartile_3_mou_Mean + 1.5 * iqr_mou_Mean\n",
    "above_outlier_mou_Mean \n",
    "above_outlier_totmrc_Mean = Quartile_3_totmrc_Mean + 1.5 * iqr_totmrc_Mean\n",
    "above_outlier_totmrc_Mean\n",
    "above_outlier_da_Mean = Quartile_3_da_Mean + 1.5 * iqr_da_Mean\n",
    "above_outlier_da_Mean"
   ]
  },
  {
   "cell_type": "markdown",
   "id": "4d2fcdce",
   "metadata": {},
   "source": [
    "## -- Below Outlier & Above Outlier (Second method)"
   ]
  },
  {
   "cell_type": "code",
   "execution_count": 126,
   "id": "84e03c24",
   "metadata": {},
   "outputs": [
    {
     "name": "stdout",
     "output_type": "stream",
     "text": [
      "Column name: rev_Mean ,  Below Outlier: -71.29327559026912 , Above Outlier: 191.97662005945745\n",
      "Column name: mou_Mean ,  Below Outlier: -1083.6332675814874 , Above Outlier: 2056.391778558242\n",
      "Column name: totmrc_Mean ,  Below Outlier: -34.23928344159352 , Above Outlier: 128.80963077428922\n",
      "Column name: da_Mean ,  Below Outlier: -6.859117777160348 , Above Outlier: 8.894135276364894\n"
     ]
    }
   ],
   "source": [
    "for column in ['rev_Mean','mou_Mean','totmrc_Mean' ,'da_Mean']:\n",
    "    mean = df[column].mean()\n",
    "    std = df[column].std()\n",
    "    print(f'Column name: {column} |  Below Outlier: {mean - 3*std} | Above Outlier: {mean + 3*std}')"
   ]
  },
  {
   "cell_type": "markdown",
   "id": "2d49960b",
   "metadata": {},
   "source": [
    "## -- Check below outlier"
   ]
  },
  {
   "cell_type": "code",
   "execution_count": 23,
   "id": "5f2a240e",
   "metadata": {},
   "outputs": [
    {
     "data": {
      "text/plain": [
       "rev_Mean       0\n",
       "mou_Mean       0\n",
       "totmrc_Mean    0\n",
       "da_Mean        0\n",
       "ovrmou_Mean    0\n",
       "              ..\n",
       "kid11_15       0\n",
       "kid16_17       0\n",
       "creditcd       0\n",
       "eqpdays        0\n",
       "Customer_ID    0\n",
       "Length: 100, dtype: int64"
      ]
     },
     "execution_count": 23,
     "metadata": {},
     "output_type": "execute_result"
    }
   ],
   "source": [
    "df[df['rev_Mean']<below_outlier_rev_Mean].count()\n",
    "\n",
    "df[df['mou_Mean']<below_outlier_mou_Mean].count()\n",
    "\n",
    "df[df['totmrc_Mean']<below_outlier_totmrc_Mean].count()\n",
    "\n",
    "df[df['da_Mean']<below_outlier_da_Mean].count()"
   ]
  },
  {
   "cell_type": "markdown",
   "id": "e29f57ee",
   "metadata": {},
   "source": [
    "## -- Check above outlier"
   ]
  },
  {
   "cell_type": "code",
   "execution_count": 49,
   "id": "3de1ad1f",
   "metadata": {},
   "outputs": [
    {
     "data": {
      "text/plain": [
       "rev_Mean       3331\n",
       "mou_Mean       3331\n",
       "totmrc_Mean    3331\n",
       "da_Mean        3331\n",
       "ovrmou_Mean    3331\n",
       "               ... \n",
       "kid11_15       3331\n",
       "kid16_17       3331\n",
       "creditcd       3331\n",
       "eqpdays        3331\n",
       "Customer_ID    3331\n",
       "Length: 100, dtype: int64"
      ]
     },
     "execution_count": 49,
     "metadata": {},
     "output_type": "execute_result"
    }
   ],
   "source": [
    "df[df['rev_Mean']>above_outlier_rev_Mean].count()\n",
    "\n",
    "df[df['mou_Mean']>above_outlier_mou_Mean].count()\n",
    "\n",
    "df[df['totmrc_Mean']>above_outlier_totmrc_Mean].count()\n",
    "\n",
    "df[df['da_Mean']>above_outlier_da_Mean].count()"
   ]
  },
  {
   "cell_type": "markdown",
   "id": "10ee7cbb",
   "metadata": {},
   "source": [
    "## -- Skewness"
   ]
  },
  {
   "cell_type": "code",
   "execution_count": 25,
   "id": "e22cc4ce",
   "metadata": {},
   "outputs": [
    {
     "data": {
      "text/plain": [
       "7.852645704613017"
      ]
     },
     "execution_count": 25,
     "metadata": {},
     "output_type": "execute_result"
    }
   ],
   "source": [
    "#normal skewness value must be between -1.5 and 1.5\n",
    "df['rev_Mean'].skew()\n",
    "df['mou_Mean'].skew()\n",
    "df['totmrc_Mean'].skew()\n",
    "df['da_Mean'].skew()"
   ]
  },
  {
   "cell_type": "markdown",
   "id": "9e47047a",
   "metadata": {},
   "source": [
    "## -- Kurtosis"
   ]
  },
  {
   "cell_type": "code",
   "execution_count": 26,
   "id": "6297b752",
   "metadata": {},
   "outputs": [
    {
     "data": {
      "text/plain": [
       "141.46714292879983"
      ]
     },
     "execution_count": 26,
     "metadata": {},
     "output_type": "execute_result"
    }
   ],
   "source": [
    "#normal kurtosis value must be between -1.5 and 1.5\n",
    "df['rev_Mean'].kurt()\n",
    "df['mou_Mean'].kurt()\n",
    "df['totmrc_Mean'].kurt()\n",
    "df['da_Mean'].kurt()"
   ]
  },
  {
   "cell_type": "code",
   "execution_count": 27,
   "id": "13c0e898",
   "metadata": {},
   "outputs": [
    {
     "data": {
      "text/html": [
       "<div>\n",
       "<style scoped>\n",
       "    .dataframe tbody tr th:only-of-type {\n",
       "        vertical-align: middle;\n",
       "    }\n",
       "\n",
       "    .dataframe tbody tr th {\n",
       "        vertical-align: top;\n",
       "    }\n",
       "\n",
       "    .dataframe thead th {\n",
       "        text-align: right;\n",
       "    }\n",
       "</style>\n",
       "<table border=\"1\" class=\"dataframe\">\n",
       "  <thead>\n",
       "    <tr style=\"text-align: right;\">\n",
       "      <th></th>\n",
       "      <th>rev_Mean</th>\n",
       "      <th>mou_Mean</th>\n",
       "      <th>totmrc_Mean</th>\n",
       "      <th>da_Mean</th>\n",
       "    </tr>\n",
       "  </thead>\n",
       "  <tbody>\n",
       "    <tr>\n",
       "      <th>count</th>\n",
       "      <td>26705.000000</td>\n",
       "      <td>26705.000000</td>\n",
       "      <td>26705.000000</td>\n",
       "      <td>26705.00000</td>\n",
       "    </tr>\n",
       "    <tr>\n",
       "      <th>mean</th>\n",
       "      <td>55.376047</td>\n",
       "      <td>450.066734</td>\n",
       "      <td>45.003869</td>\n",
       "      <td>0.81356</td>\n",
       "    </tr>\n",
       "    <tr>\n",
       "      <th>std</th>\n",
       "      <td>41.238244</td>\n",
       "      <td>471.538127</td>\n",
       "      <td>23.808488</td>\n",
       "      <td>1.96356</td>\n",
       "    </tr>\n",
       "    <tr>\n",
       "      <th>min</th>\n",
       "      <td>0.582500</td>\n",
       "      <td>0.000000</td>\n",
       "      <td>-1.422500</td>\n",
       "      <td>0.00000</td>\n",
       "    </tr>\n",
       "    <tr>\n",
       "      <th>25%</th>\n",
       "      <td>31.882500</td>\n",
       "      <td>134.250000</td>\n",
       "      <td>30.000000</td>\n",
       "      <td>0.00000</td>\n",
       "    </tr>\n",
       "    <tr>\n",
       "      <th>50%</th>\n",
       "      <td>44.335000</td>\n",
       "      <td>305.500000</td>\n",
       "      <td>42.490000</td>\n",
       "      <td>0.00000</td>\n",
       "    </tr>\n",
       "    <tr>\n",
       "      <th>75%</th>\n",
       "      <td>65.697500</td>\n",
       "      <td>601.500000</td>\n",
       "      <td>58.000000</td>\n",
       "      <td>0.74250</td>\n",
       "    </tr>\n",
       "    <tr>\n",
       "      <th>max</th>\n",
       "      <td>672.015000</td>\n",
       "      <td>6103.750000</td>\n",
       "      <td>349.572500</td>\n",
       "      <td>72.76500</td>\n",
       "    </tr>\n",
       "  </tbody>\n",
       "</table>\n",
       "</div>"
      ],
      "text/plain": [
       "           rev_Mean      mou_Mean   totmrc_Mean      da_Mean\n",
       "count  26705.000000  26705.000000  26705.000000  26705.00000\n",
       "mean      55.376047    450.066734     45.003869      0.81356\n",
       "std       41.238244    471.538127     23.808488      1.96356\n",
       "min        0.582500      0.000000     -1.422500      0.00000\n",
       "25%       31.882500    134.250000     30.000000      0.00000\n",
       "50%       44.335000    305.500000     42.490000      0.00000\n",
       "75%       65.697500    601.500000     58.000000      0.74250\n",
       "max      672.015000   6103.750000    349.572500     72.76500"
      ]
     },
     "execution_count": 27,
     "metadata": {},
     "output_type": "execute_result"
    }
   ],
   "source": [
    "#write with one code \n",
    "a = df[['rev_Mean','mou_Mean','totmrc_Mean' ,'da_Mean']].describe()\n",
    "a"
   ]
  },
  {
   "cell_type": "code",
   "execution_count": 28,
   "id": "23084d91",
   "metadata": {},
   "outputs": [
    {
     "data": {
      "text/plain": [
       "rev_Mean        31.8825\n",
       "mou_Mean       134.2500\n",
       "totmrc_Mean     30.0000\n",
       "da_Mean          0.0000\n",
       "Name: 25%, dtype: float64"
      ]
     },
     "execution_count": 28,
     "metadata": {},
     "output_type": "execute_result"
    }
   ],
   "source": [
    "#and we can call with loc method \n",
    "a.loc['25%']"
   ]
  },
  {
   "cell_type": "markdown",
   "id": "18a3fcce",
   "metadata": {},
   "source": [
    "## -- Jarque_bera"
   ]
  },
  {
   "cell_type": "code",
   "execution_count": 29,
   "id": "cbbd9a14",
   "metadata": {},
   "outputs": [],
   "source": [
    "#Jarque_bera test are used for normal distribution test\n",
    "#If p_value is lower than 0.05 then column's data is not normal distribution otherwise is normal distribution \n",
    "from scipy.stats import jarque_bera"
   ]
  },
  {
   "cell_type": "code",
   "execution_count": null,
   "id": "970d704f",
   "metadata": {},
   "outputs": [],
   "source": [
    "jb_rev_Mean = shapiro(df['rev_Mean'])\n",
    "jb_mou_Mean = jarque_bera(df['mou_Mean'])\n",
    "jb_totmrc_Mean = jarque_bera(df['totmrc_Mean'])\n",
    "jb_da_Mean = jarque_bera(df['da_Mean'])"
   ]
  },
  {
   "cell_type": "markdown",
   "id": "6060e9ad",
   "metadata": {},
   "source": [
    "## -- Statistic"
   ]
  },
  {
   "cell_type": "code",
   "execution_count": 31,
   "id": "06020d55",
   "metadata": {},
   "outputs": [
    {
     "data": {
      "text/plain": [
       "22534596.376215488"
      ]
     },
     "execution_count": 31,
     "metadata": {},
     "output_type": "execute_result"
    }
   ],
   "source": [
    "jb_rev_Mean.statistic\n",
    "jb_mou_Mean.statistic\n",
    "jb_totmrc_Mean.statistic\n",
    "jb_da_Mean.statistic"
   ]
  },
  {
   "cell_type": "markdown",
   "id": "925e7bd0",
   "metadata": {},
   "source": [
    "## -- P-value "
   ]
  },
  {
   "cell_type": "code",
   "execution_count": 32,
   "id": "defd449c",
   "metadata": {},
   "outputs": [
    {
     "data": {
      "text/plain": [
       "0.0"
      ]
     },
     "execution_count": 32,
     "metadata": {},
     "output_type": "execute_result"
    }
   ],
   "source": [
    "jb_rev_Mean.pvalue\n",
    "jb_mou_Mean.pvalue\n",
    "jb_totmrc_Mean.pvalue\n",
    "jb_da_Mean.pvalue"
   ]
  },
  {
   "cell_type": "markdown",
   "id": "1b87cf46",
   "metadata": {},
   "source": [
    "## -- Shapiro"
   ]
  },
  {
   "cell_type": "code",
   "execution_count": 50,
   "id": "ecb86349",
   "metadata": {},
   "outputs": [],
   "source": [
    "from scipy.stats import shapiro"
   ]
  },
  {
   "cell_type": "code",
   "execution_count": 56,
   "id": "57283bd7",
   "metadata": {},
   "outputs": [
    {
     "name": "stdout",
     "output_type": "stream",
     "text": [
      "Column: rev_Mean | Statistic: 0.7318531274795532 |  P-value: 0.0\n",
      "Column: mou_Mean | Statistic: 0.7806730270385742 |  P-value: 0.0\n",
      "Column: totmrc_Mean | Statistic: 0.8969058990478516 |  P-value: 0.0\n",
      "Column: da_Mean | Statistic: 0.4316449761390686 |  P-value: 0.0\n"
     ]
    }
   ],
   "source": [
    "#Shapiro test are used for normal distribution test\n",
    "#If p_value is lower than 0.05 then column's data is not normal distribution otherwise is normal distribution \n",
    "for x in ['rev_Mean','mou_Mean','totmrc_Mean' ,'da_Mean']:\n",
    "    stat, p_value = shapiro(df[x])\n",
    "    print(f'Column: {x} | Statistic: {stat} |  P-value: {p_value}')"
   ]
  },
  {
   "cell_type": "markdown",
   "id": "d046f08f",
   "metadata": {},
   "source": [
    "# -- Histogram"
   ]
  },
  {
   "cell_type": "code",
   "execution_count": 33,
   "id": "6143cb81",
   "metadata": {},
   "outputs": [
    {
     "data": {
      "text/plain": [
       "<Axes: ylabel='Frequency'>"
      ]
     },
     "execution_count": 33,
     "metadata": {},
     "output_type": "execute_result"
    },
    {
     "data": {
      "image/png": "[encoded data removed]",
      "text/plain": [
       "<Figure size 640x480 with 1 Axes>"
      ]
     },
     "metadata": {},
     "output_type": "display_data"
    }
   ],
   "source": [
    "df['rev_Mean'].plot(kind = 'hist')"
   ]
  },
  {
   "cell_type": "code",
   "execution_count": 34,
   "id": "d977316b",
   "metadata": {},
   "outputs": [
    {
     "data": {
      "text/plain": [
       "<Axes: ylabel='Frequency'>"
      ]
     },
     "execution_count": 34,
     "metadata": {},
     "output_type": "execute_result"
    },
    {
     "data": {
      "image/png": "[encoded data removed]",
      "text/plain": [
       "<Figure size 640x480 with 1 Axes>"
      ]
     },
     "metadata": {},
     "output_type": "display_data"
    }
   ],
   "source": [
    "df['mou_Mean'].plot(kind = 'hist', color = 'red')"
   ]
  },
  {
   "cell_type": "code",
   "execution_count": 35,
   "id": "9fd29a4d",
   "metadata": {},
   "outputs": [
    {
     "data": {
      "text/plain": [
       "<Axes: ylabel='Frequency'>"
      ]
     },
     "execution_count": 35,
     "metadata": {},
     "output_type": "execute_result"
    },
    {
     "data": {
      "image/png": "[encoded data removed]",
      "text/plain": [
       "<Figure size 640x480 with 1 Axes>"
      ]
     },
     "metadata": {},
     "output_type": "display_data"
    }
   ],
   "source": [
    "df['totmrc_Mean'].plot(kind = 'hist')"
   ]
  },
  {
   "cell_type": "code",
   "execution_count": 57,
   "id": "dae158ff",
   "metadata": {},
   "outputs": [
    {
     "ename": "SyntaxError",
     "evalue": "positional argument follows keyword argument (3180867792.py, line 1)",
     "output_type": "error",
     "traceback": [
      "\u001b[1;36m  Cell \u001b[1;32mIn[57], line 1\u001b[1;36m\u001b[0m\n\u001b[1;33m    df['da_Mean'].plot(kind = 'hist', color = 'red',data_label)\u001b[0m\n\u001b[1;37m                                                              ^\u001b[0m\n\u001b[1;31mSyntaxError\u001b[0m\u001b[1;31m:\u001b[0m positional argument follows keyword argument\n"
     ]
    }
   ],
   "source": [
    "df['da_Mean'].plot(kind = 'hist', color = 'red',data_label)"
   ]
  },
  {
   "cell_type": "markdown",
   "id": "4d5893a9",
   "metadata": {},
   "source": [
    "## Conclusion: The columns are positively skewed, so the first four columns are not a normal distribution"
   ]
  },
  {
   "cell_type": "markdown",
   "id": "c9c23bdb",
   "metadata": {},
   "source": [
    "# -- Correlataions"
   ]
  },
  {
   "cell_type": "code",
   "execution_count": 8,
   "id": "a0e4483c",
   "metadata": {},
   "outputs": [
    {
     "data": {
      "text/html": [
       "<div>\n",
       "<style scoped>\n",
       "    .dataframe tbody tr th:only-of-type {\n",
       "        vertical-align: middle;\n",
       "    }\n",
       "\n",
       "    .dataframe tbody tr th {\n",
       "        vertical-align: top;\n",
       "    }\n",
       "\n",
       "    .dataframe thead th {\n",
       "        text-align: right;\n",
       "    }\n",
       "</style>\n",
       "<table border=\"1\" class=\"dataframe\">\n",
       "  <thead>\n",
       "    <tr style=\"text-align: right;\">\n",
       "      <th></th>\n",
       "      <th>rev_Mean</th>\n",
       "      <th>mou_Mean</th>\n",
       "      <th>totmrc_Mean</th>\n",
       "      <th>da_Mean</th>\n",
       "      <th>ovrmou_Mean</th>\n",
       "      <th>ovrrev_Mean</th>\n",
       "      <th>vceovr_Mean</th>\n",
       "      <th>datovr_Mean</th>\n",
       "      <th>roam_Mean</th>\n",
       "      <th>change_mou</th>\n",
       "      <th>...</th>\n",
       "      <th>models</th>\n",
       "      <th>truck</th>\n",
       "      <th>rv</th>\n",
       "      <th>lor</th>\n",
       "      <th>adults</th>\n",
       "      <th>income</th>\n",
       "      <th>numbcars</th>\n",
       "      <th>forgntvl</th>\n",
       "      <th>eqpdays</th>\n",
       "      <th>Customer_ID</th>\n",
       "    </tr>\n",
       "  </thead>\n",
       "  <tbody>\n",
       "    <tr>\n",
       "      <th>rev_Mean</th>\n",
       "      <td>1.000000</td>\n",
       "      <td>0.776165</td>\n",
       "      <td>0.685193</td>\n",
       "      <td>0.445261</td>\n",
       "      <td>0.744038</td>\n",
       "      <td>0.777523</td>\n",
       "      <td>0.775909</td>\n",
       "      <td>0.257271</td>\n",
       "      <td>0.266607</td>\n",
       "      <td>-0.084139</td>\n",
       "      <td>...</td>\n",
       "      <td>0.350984</td>\n",
       "      <td>-0.028907</td>\n",
       "      <td>-0.006807</td>\n",
       "      <td>-0.087851</td>\n",
       "      <td>-0.039259</td>\n",
       "      <td>-0.040400</td>\n",
       "      <td>-0.009059</td>\n",
       "      <td>-0.050053</td>\n",
       "      <td>-0.329249</td>\n",
       "      <td>-0.076299</td>\n",
       "    </tr>\n",
       "    <tr>\n",
       "      <th>mou_Mean</th>\n",
       "      <td>0.776165</td>\n",
       "      <td>1.000000</td>\n",
       "      <td>0.649387</td>\n",
       "      <td>0.425862</td>\n",
       "      <td>0.606111</td>\n",
       "      <td>0.549831</td>\n",
       "      <td>0.552839</td>\n",
       "      <td>0.144036</td>\n",
       "      <td>0.140819</td>\n",
       "      <td>-0.093486</td>\n",
       "      <td>...</td>\n",
       "      <td>0.479274</td>\n",
       "      <td>-0.028402</td>\n",
       "      <td>-0.014749</td>\n",
       "      <td>-0.080815</td>\n",
       "      <td>-0.027600</td>\n",
       "      <td>-0.088775</td>\n",
       "      <td>0.009683</td>\n",
       "      <td>-0.059162</td>\n",
       "      <td>-0.407429</td>\n",
       "      <td>-0.106543</td>\n",
       "    </tr>\n",
       "    <tr>\n",
       "      <th>totmrc_Mean</th>\n",
       "      <td>0.685193</td>\n",
       "      <td>0.649387</td>\n",
       "      <td>1.000000</td>\n",
       "      <td>0.343694</td>\n",
       "      <td>0.210922</td>\n",
       "      <td>0.177418</td>\n",
       "      <td>0.180522</td>\n",
       "      <td>0.026779</td>\n",
       "      <td>0.111754</td>\n",
       "      <td>-0.081609</td>\n",
       "      <td>...</td>\n",
       "      <td>0.390146</td>\n",
       "      <td>-0.028426</td>\n",
       "      <td>-0.010902</td>\n",
       "      <td>-0.077506</td>\n",
       "      <td>-0.034849</td>\n",
       "      <td>-0.020250</td>\n",
       "      <td>0.006746</td>\n",
       "      <td>-0.033783</td>\n",
       "      <td>-0.357098</td>\n",
       "      <td>-0.073769</td>\n",
       "    </tr>\n",
       "    <tr>\n",
       "      <th>da_Mean</th>\n",
       "      <td>0.445261</td>\n",
       "      <td>0.425862</td>\n",
       "      <td>0.343694</td>\n",
       "      <td>1.000000</td>\n",
       "      <td>0.300601</td>\n",
       "      <td>0.269736</td>\n",
       "      <td>0.272922</td>\n",
       "      <td>0.055007</td>\n",
       "      <td>0.121712</td>\n",
       "      <td>-0.040828</td>\n",
       "      <td>...</td>\n",
       "      <td>0.215103</td>\n",
       "      <td>-0.021906</td>\n",
       "      <td>-0.004807</td>\n",
       "      <td>-0.064013</td>\n",
       "      <td>-0.042162</td>\n",
       "      <td>0.021104</td>\n",
       "      <td>-0.010662</td>\n",
       "      <td>-0.031348</td>\n",
       "      <td>-0.178272</td>\n",
       "      <td>-0.058955</td>\n",
       "    </tr>\n",
       "    <tr>\n",
       "      <th>ovrmou_Mean</th>\n",
       "      <td>0.744038</td>\n",
       "      <td>0.606111</td>\n",
       "      <td>0.210922</td>\n",
       "      <td>0.300601</td>\n",
       "      <td>1.000000</td>\n",
       "      <td>0.888909</td>\n",
       "      <td>0.893615</td>\n",
       "      <td>0.234420</td>\n",
       "      <td>0.060941</td>\n",
       "      <td>-0.063951</td>\n",
       "      <td>...</td>\n",
       "      <td>0.195138</td>\n",
       "      <td>-0.009055</td>\n",
       "      <td>0.002348</td>\n",
       "      <td>-0.059470</td>\n",
       "      <td>-0.021997</td>\n",
       "      <td>-0.025726</td>\n",
       "      <td>-0.009010</td>\n",
       "      <td>-0.039839</td>\n",
       "      <td>-0.154552</td>\n",
       "      <td>-0.067446</td>\n",
       "    </tr>\n",
       "    <tr>\n",
       "      <th>...</th>\n",
       "      <td>...</td>\n",
       "      <td>...</td>\n",
       "      <td>...</td>\n",
       "      <td>...</td>\n",
       "      <td>...</td>\n",
       "      <td>...</td>\n",
       "      <td>...</td>\n",
       "      <td>...</td>\n",
       "      <td>...</td>\n",
       "      <td>...</td>\n",
       "      <td>...</td>\n",
       "      <td>...</td>\n",
       "      <td>...</td>\n",
       "      <td>...</td>\n",
       "      <td>...</td>\n",
       "      <td>...</td>\n",
       "      <td>...</td>\n",
       "      <td>...</td>\n",
       "      <td>...</td>\n",
       "      <td>...</td>\n",
       "      <td>...</td>\n",
       "    </tr>\n",
       "    <tr>\n",
       "      <th>income</th>\n",
       "      <td>-0.040400</td>\n",
       "      <td>-0.088775</td>\n",
       "      <td>-0.020250</td>\n",
       "      <td>0.021104</td>\n",
       "      <td>-0.025726</td>\n",
       "      <td>-0.035357</td>\n",
       "      <td>-0.034455</td>\n",
       "      <td>-0.020832</td>\n",
       "      <td>-0.002186</td>\n",
       "      <td>-0.005553</td>\n",
       "      <td>...</td>\n",
       "      <td>-0.102547</td>\n",
       "      <td>0.036480</td>\n",
       "      <td>0.097647</td>\n",
       "      <td>0.000040</td>\n",
       "      <td>0.065398</td>\n",
       "      <td>1.000000</td>\n",
       "      <td>0.033582</td>\n",
       "      <td>0.080943</td>\n",
       "      <td>0.105519</td>\n",
       "      <td>0.018208</td>\n",
       "    </tr>\n",
       "    <tr>\n",
       "      <th>numbcars</th>\n",
       "      <td>-0.009059</td>\n",
       "      <td>0.009683</td>\n",
       "      <td>0.006746</td>\n",
       "      <td>-0.010662</td>\n",
       "      <td>-0.009010</td>\n",
       "      <td>-0.015927</td>\n",
       "      <td>-0.016084</td>\n",
       "      <td>0.002663</td>\n",
       "      <td>-0.019364</td>\n",
       "      <td>-0.014211</td>\n",
       "      <td>...</td>\n",
       "      <td>0.018760</td>\n",
       "      <td>0.007902</td>\n",
       "      <td>0.003741</td>\n",
       "      <td>0.109684</td>\n",
       "      <td>0.245112</td>\n",
       "      <td>0.033582</td>\n",
       "      <td>1.000000</td>\n",
       "      <td>0.029113</td>\n",
       "      <td>-0.018758</td>\n",
       "      <td>-0.015653</td>\n",
       "    </tr>\n",
       "    <tr>\n",
       "      <th>forgntvl</th>\n",
       "      <td>-0.050053</td>\n",
       "      <td>-0.059162</td>\n",
       "      <td>-0.033783</td>\n",
       "      <td>-0.031348</td>\n",
       "      <td>-0.039839</td>\n",
       "      <td>-0.041081</td>\n",
       "      <td>-0.042535</td>\n",
       "      <td>0.000185</td>\n",
       "      <td>-0.006742</td>\n",
       "      <td>0.001129</td>\n",
       "      <td>...</td>\n",
       "      <td>-0.026763</td>\n",
       "      <td>0.027398</td>\n",
       "      <td>0.053588</td>\n",
       "      <td>0.065012</td>\n",
       "      <td>0.103515</td>\n",
       "      <td>0.080943</td>\n",
       "      <td>0.029113</td>\n",
       "      <td>1.000000</td>\n",
       "      <td>0.034294</td>\n",
       "      <td>0.006250</td>\n",
       "    </tr>\n",
       "    <tr>\n",
       "      <th>eqpdays</th>\n",
       "      <td>-0.329249</td>\n",
       "      <td>-0.407429</td>\n",
       "      <td>-0.357098</td>\n",
       "      <td>-0.178272</td>\n",
       "      <td>-0.154552</td>\n",
       "      <td>-0.167635</td>\n",
       "      <td>-0.168029</td>\n",
       "      <td>-0.048527</td>\n",
       "      <td>-0.047027</td>\n",
       "      <td>0.016803</td>\n",
       "      <td>...</td>\n",
       "      <td>-0.657698</td>\n",
       "      <td>0.006172</td>\n",
       "      <td>0.002996</td>\n",
       "      <td>0.065760</td>\n",
       "      <td>0.016756</td>\n",
       "      <td>0.105519</td>\n",
       "      <td>-0.018758</td>\n",
       "      <td>0.034294</td>\n",
       "      <td>1.000000</td>\n",
       "      <td>-0.033506</td>\n",
       "    </tr>\n",
       "    <tr>\n",
       "      <th>Customer_ID</th>\n",
       "      <td>-0.076299</td>\n",
       "      <td>-0.106543</td>\n",
       "      <td>-0.073769</td>\n",
       "      <td>-0.058955</td>\n",
       "      <td>-0.067446</td>\n",
       "      <td>-0.024429</td>\n",
       "      <td>-0.023634</td>\n",
       "      <td>-0.015304</td>\n",
       "      <td>0.000971</td>\n",
       "      <td>0.030493</td>\n",
       "      <td>...</td>\n",
       "      <td>-0.218200</td>\n",
       "      <td>-0.016503</td>\n",
       "      <td>-0.015842</td>\n",
       "      <td>-0.023689</td>\n",
       "      <td>0.006029</td>\n",
       "      <td>0.018208</td>\n",
       "      <td>-0.015653</td>\n",
       "      <td>0.006250</td>\n",
       "      <td>-0.033506</td>\n",
       "      <td>1.000000</td>\n",
       "    </tr>\n",
       "  </tbody>\n",
       "</table>\n",
       "<p>79 rows × 79 columns</p>\n",
       "</div>"
      ],
      "text/plain": [
       "             rev_Mean  mou_Mean  totmrc_Mean   da_Mean  ovrmou_Mean  \\\n",
       "rev_Mean     1.000000  0.776165     0.685193  0.445261     0.744038   \n",
       "mou_Mean     0.776165  1.000000     0.649387  0.425862     0.606111   \n",
       "totmrc_Mean  0.685193  0.649387     1.000000  0.343694     0.210922   \n",
       "da_Mean      0.445261  0.425862     0.343694  1.000000     0.300601   \n",
       "ovrmou_Mean  0.744038  0.606111     0.210922  0.300601     1.000000   \n",
       "...               ...       ...          ...       ...          ...   \n",
       "income      -0.040400 -0.088775    -0.020250  0.021104    -0.025726   \n",
       "numbcars    -0.009059  0.009683     0.006746 -0.010662    -0.009010   \n",
       "forgntvl    -0.050053 -0.059162    -0.033783 -0.031348    -0.039839   \n",
       "eqpdays     -0.329249 -0.407429    -0.357098 -0.178272    -0.154552   \n",
       "Customer_ID -0.076299 -0.106543    -0.073769 -0.058955    -0.067446   \n",
       "\n",
       "             ovrrev_Mean  vceovr_Mean  datovr_Mean  roam_Mean  change_mou  \\\n",
       "rev_Mean        0.777523     0.775909     0.257271   0.266607   -0.084139   \n",
       "mou_Mean        0.549831     0.552839     0.144036   0.140819   -0.093486   \n",
       "totmrc_Mean     0.177418     0.180522     0.026779   0.111754   -0.081609   \n",
       "da_Mean         0.269736     0.272922     0.055007   0.121712   -0.040828   \n",
       "ovrmou_Mean     0.888909     0.893615     0.234420   0.060941   -0.063951   \n",
       "...                  ...          ...          ...        ...         ...   \n",
       "income         -0.035357    -0.034455    -0.020832  -0.002186   -0.005553   \n",
       "numbcars       -0.015927    -0.016084     0.002663  -0.019364   -0.014211   \n",
       "forgntvl       -0.041081    -0.042535     0.000185  -0.006742    0.001129   \n",
       "eqpdays        -0.167635    -0.168029    -0.048527  -0.047027    0.016803   \n",
       "Customer_ID    -0.024429    -0.023634    -0.015304   0.000971    0.030493   \n",
       "\n",
       "             ...    models     truck        rv       lor    adults    income  \\\n",
       "rev_Mean     ...  0.350984 -0.028907 -0.006807 -0.087851 -0.039259 -0.040400   \n",
       "mou_Mean     ...  0.479274 -0.028402 -0.014749 -0.080815 -0.027600 -0.088775   \n",
       "totmrc_Mean  ...  0.390146 -0.028426 -0.010902 -0.077506 -0.034849 -0.020250   \n",
       "da_Mean      ...  0.215103 -0.021906 -0.004807 -0.064013 -0.042162  0.021104   \n",
       "ovrmou_Mean  ...  0.195138 -0.009055  0.002348 -0.059470 -0.021997 -0.025726   \n",
       "...          ...       ...       ...       ...       ...       ...       ...   \n",
       "income       ... -0.102547  0.036480  0.097647  0.000040  0.065398  1.000000   \n",
       "numbcars     ...  0.018760  0.007902  0.003741  0.109684  0.245112  0.033582   \n",
       "forgntvl     ... -0.026763  0.027398  0.053588  0.065012  0.103515  0.080943   \n",
       "eqpdays      ... -0.657698  0.006172  0.002996  0.065760  0.016756  0.105519   \n",
       "Customer_ID  ... -0.218200 -0.016503 -0.015842 -0.023689  0.006029  0.018208   \n",
       "\n",
       "             numbcars  forgntvl   eqpdays  Customer_ID  \n",
       "rev_Mean    -0.009059 -0.050053 -0.329249    -0.076299  \n",
       "mou_Mean     0.009683 -0.059162 -0.407429    -0.106543  \n",
       "totmrc_Mean  0.006746 -0.033783 -0.357098    -0.073769  \n",
       "da_Mean     -0.010662 -0.031348 -0.178272    -0.058955  \n",
       "ovrmou_Mean -0.009010 -0.039839 -0.154552    -0.067446  \n",
       "...               ...       ...       ...          ...  \n",
       "income       0.033582  0.080943  0.105519     0.018208  \n",
       "numbcars     1.000000  0.029113 -0.018758    -0.015653  \n",
       "forgntvl     0.029113  1.000000  0.034294     0.006250  \n",
       "eqpdays     -0.018758  0.034294  1.000000    -0.033506  \n",
       "Customer_ID -0.015653  0.006250 -0.033506     1.000000  \n",
       "\n",
       "[79 rows x 79 columns]"
      ]
     },
     "execution_count": 8,
     "metadata": {},
     "output_type": "execute_result"
    }
   ],
   "source": [
    "#Correlation is realtion between columns\n",
    "#Correlation must be between -1.0 and 1.0\n",
    "#All column with each other\n",
    "df.corr()"
   ]
  },
  {
   "cell_type": "code",
   "execution_count": 47,
   "id": "60253e6b",
   "metadata": {},
   "outputs": [
    {
     "name": "stdout",
     "output_type": "stream",
     "text": [
      "First column: rev_Mean , Second column: mou_Mean , Correlation: 0.7317357774134263\n",
      "First column: rev_Mean , Second column: totmrc_Mean , Correlation: 0.6630668655457218\n",
      "First column: rev_Mean , Second column: da_Mean , Correlation: 0.41682020220577953\n",
      "First column: rev_Mean , Second column: ovrmou_Mean , Correlation: 0.7890643340232498\n",
      "First column: rev_Mean , Second column: ovrrev_Mean , Correlation: 0.7875741940473466\n",
      "First column: rev_Mean , Second column: vceovr_Mean , Correlation: 0.784642517066212\n",
      "First column: rev_Mean , Second column: datovr_Mean , Correlation: 0.13197321938934956\n",
      "First column: rev_Mean , Second column: roam_Mean , Correlation: 0.28237460364026445\n",
      "First column: rev_Mean , Second column: change_mou , Correlation: -0.04094657422230248\n",
      "First column: rev_Mean , Second column: change_rev , Correlation: -0.04012792266143425\n",
      "First column: rev_Mean , Second column: drop_vce_Mean , Correlation: 0.43688084997344884\n",
      "First column: rev_Mean , Second column: drop_dat_Mean , Correlation: 0.06882292052913411\n",
      "First column: rev_Mean , Second column: blck_vce_Mean , Correlation: 0.25016637844692147\n",
      "First column: rev_Mean , Second column: blck_dat_Mean , Correlation: 0.041711880871896465\n",
      "First column: rev_Mean , Second column: unan_vce_Mean , Correlation: 0.4599142670099646\n",
      "First column: rev_Mean , Second column: unan_dat_Mean , Correlation: 0.06247449921653935\n",
      "First column: rev_Mean , Second column: plcd_vce_Mean , Correlation: 0.6141122359960209\n",
      "First column: rev_Mean , Second column: plcd_dat_Mean , Correlation: 0.09645635179468114\n",
      "First column: rev_Mean , Second column: recv_vce_Mean , Correlation: 0.5238424370894728\n",
      "First column: rev_Mean , Second column: recv_sms_Mean , Correlation: 0.019606284335413234\n",
      "First column: rev_Mean , Second column: comp_vce_Mean , Correlation: 0.6258298574650433\n",
      "First column: rev_Mean , Second column: comp_dat_Mean , Correlation: 0.09327912554615689\n",
      "First column: rev_Mean , Second column: custcare_Mean , Correlation: 0.13231381621009505\n",
      "First column: rev_Mean , Second column: ccrndmou_Mean , Correlation: 0.21921410658046517\n",
      "First column: rev_Mean , Second column: cc_mou_Mean , Correlation: 0.22427617216719972\n",
      "First column: rev_Mean , Second column: inonemin_Mean , Correlation: 0.42782446544778224\n",
      "First column: rev_Mean , Second column: threeway_Mean , Correlation: 0.18984971723128843\n",
      "First column: rev_Mean , Second column: mou_cvce_Mean , Correlation: 0.59850653833261\n",
      "First column: rev_Mean , Second column: mou_cdat_Mean , Correlation: 0.09080773512259559\n",
      "First column: rev_Mean , Second column: mou_rvce_Mean , Correlation: 0.6233267551705713\n",
      "First column: rev_Mean , Second column: owylis_vce_Mean , Correlation: 0.5242245734387556\n",
      "First column: rev_Mean , Second column: mouowylisv_Mean , Correlation: 0.487891770236147\n",
      "First column: rev_Mean , Second column: iwylis_vce_Mean , Correlation: 0.3874534244767928\n",
      "First column: rev_Mean , Second column: mouiwylisv_Mean , Correlation: 0.3800399251100775\n",
      "First column: rev_Mean , Second column: peak_vce_Mean , Correlation: 0.6595081324250835\n",
      "First column: rev_Mean , Second column: peak_dat_Mean , Correlation: 0.0936627771446399\n",
      "First column: rev_Mean , Second column: mou_peav_Mean , Correlation: 0.7106826210237919\n",
      "First column: rev_Mean , Second column: mou_pead_Mean , Correlation: 0.10014677045594367\n",
      "First column: rev_Mean , Second column: opk_vce_Mean , Correlation: 0.45238092255110407\n",
      "First column: rev_Mean , Second column: opk_dat_Mean , Correlation: 0.08089830387281988\n",
      "First column: rev_Mean , Second column: mou_opkv_Mean , Correlation: 0.44015765973347476\n",
      "First column: rev_Mean , Second column: mou_opkd_Mean , Correlation: 0.07566250148429525\n",
      "First column: rev_Mean , Second column: drop_blk_Mean , Correlation: 0.43438937828195173\n",
      "First column: rev_Mean , Second column: attempt_Mean , Correlation: 0.6148614060679234\n",
      "First column: rev_Mean , Second column: complete_Mean , Correlation: 0.6263789042040508\n",
      "First column: rev_Mean , Second column: callfwdv_Mean , Correlation: 0.02186155686150883\n",
      "First column: rev_Mean , Second column: callwait_Mean , Correlation: 0.5010632180947253\n",
      "First column: rev_Mean , Second column: churn , Correlation: 0.0024905142990714504\n",
      "First column: rev_Mean , Second column: months , Correlation: 0.0533478753291219\n",
      "First column: rev_Mean , Second column: uniqsubs , Correlation: -0.0019683450937416185\n",
      "First column: rev_Mean , Second column: actvsubs , Correlation: -0.031995104185576016\n"
     ]
    },
    {
     "ename": "TypeError",
     "evalue": "unsupported operand type(s) for /: 'str' and 'int'",
     "output_type": "error",
     "traceback": [
      "\u001b[1;31m---------------------------------------------------------------------------\u001b[0m",
      "\u001b[1;31mTypeError\u001b[0m                                 Traceback (most recent call last)",
      "Cell \u001b[1;32mIn[47], line 6\u001b[0m\n\u001b[0;32m      4\u001b[0m     \u001b[38;5;28;01mpass\u001b[39;00m\n\u001b[0;32m      5\u001b[0m \u001b[38;5;28;01melse\u001b[39;00m: \n\u001b[1;32m----> 6\u001b[0m     \u001b[38;5;28mprint\u001b[39m(\u001b[38;5;124mf\u001b[39m\u001b[38;5;124m'\u001b[39m\u001b[38;5;124mFirst column: \u001b[39m\u001b[38;5;132;01m{\u001b[39;00mcolumn1\u001b[38;5;132;01m}\u001b[39;00m\u001b[38;5;124m , Second column: \u001b[39m\u001b[38;5;132;01m{\u001b[39;00mcolumn2\u001b[38;5;132;01m}\u001b[39;00m\u001b[38;5;124m , Correlation: \u001b[39m\u001b[38;5;132;01m{\u001b[39;00mdf[column1]\u001b[38;5;241m.\u001b[39mcorr(df[column2])\u001b[38;5;132;01m}\u001b[39;00m\u001b[38;5;124m'\u001b[39m)\n",
      "File \u001b[1;32m~\\AppData\\Local\\anaconda3\\lib\\site-packages\\pandas\\core\\series.py:2760\u001b[0m, in \u001b[0;36mSeries.corr\u001b[1;34m(self, other, method, min_periods)\u001b[0m\n\u001b[0;32m   2757\u001b[0m     \u001b[38;5;28;01mreturn\u001b[39;00m np\u001b[38;5;241m.\u001b[39mnan\n\u001b[0;32m   2759\u001b[0m \u001b[38;5;28;01mif\u001b[39;00m method \u001b[38;5;129;01min\u001b[39;00m [\u001b[38;5;124m\"\u001b[39m\u001b[38;5;124mpearson\u001b[39m\u001b[38;5;124m\"\u001b[39m, \u001b[38;5;124m\"\u001b[39m\u001b[38;5;124mspearman\u001b[39m\u001b[38;5;124m\"\u001b[39m, \u001b[38;5;124m\"\u001b[39m\u001b[38;5;124mkendall\u001b[39m\u001b[38;5;124m\"\u001b[39m] \u001b[38;5;129;01mor\u001b[39;00m callable(method):\n\u001b[1;32m-> 2760\u001b[0m     \u001b[38;5;28;01mreturn\u001b[39;00m \u001b[43mnanops\u001b[49m\u001b[38;5;241;43m.\u001b[39;49m\u001b[43mnancorr\u001b[49m\u001b[43m(\u001b[49m\n\u001b[0;32m   2761\u001b[0m \u001b[43m        \u001b[49m\u001b[43mthis\u001b[49m\u001b[38;5;241;43m.\u001b[39;49m\u001b[43mvalues\u001b[49m\u001b[43m,\u001b[49m\u001b[43m \u001b[49m\u001b[43mother\u001b[49m\u001b[38;5;241;43m.\u001b[39;49m\u001b[43mvalues\u001b[49m\u001b[43m,\u001b[49m\u001b[43m \u001b[49m\u001b[43mmethod\u001b[49m\u001b[38;5;241;43m=\u001b[39;49m\u001b[43mmethod\u001b[49m\u001b[43m,\u001b[49m\u001b[43m \u001b[49m\u001b[43mmin_periods\u001b[49m\u001b[38;5;241;43m=\u001b[39;49m\u001b[43mmin_periods\u001b[49m\n\u001b[0;32m   2762\u001b[0m \u001b[43m    \u001b[49m\u001b[43m)\u001b[49m\n\u001b[0;32m   2764\u001b[0m \u001b[38;5;28;01mraise\u001b[39;00m \u001b[38;5;167;01mValueError\u001b[39;00m(\n\u001b[0;32m   2765\u001b[0m     \u001b[38;5;124m\"\u001b[39m\u001b[38;5;124mmethod must be either \u001b[39m\u001b[38;5;124m'\u001b[39m\u001b[38;5;124mpearson\u001b[39m\u001b[38;5;124m'\u001b[39m\u001b[38;5;124m, \u001b[39m\u001b[38;5;124m\"\u001b[39m\n\u001b[0;32m   2766\u001b[0m     \u001b[38;5;124m\"\u001b[39m\u001b[38;5;124m'\u001b[39m\u001b[38;5;124mspearman\u001b[39m\u001b[38;5;124m'\u001b[39m\u001b[38;5;124m, \u001b[39m\u001b[38;5;124m'\u001b[39m\u001b[38;5;124mkendall\u001b[39m\u001b[38;5;124m'\u001b[39m\u001b[38;5;124m, or a callable, \u001b[39m\u001b[38;5;124m\"\u001b[39m\n\u001b[0;32m   2767\u001b[0m     \u001b[38;5;124mf\u001b[39m\u001b[38;5;124m\"\u001b[39m\u001b[38;5;124m'\u001b[39m\u001b[38;5;132;01m{\u001b[39;00mmethod\u001b[38;5;132;01m}\u001b[39;00m\u001b[38;5;124m'\u001b[39m\u001b[38;5;124m was supplied\u001b[39m\u001b[38;5;124m\"\u001b[39m\n\u001b[0;32m   2768\u001b[0m )\n",
      "File \u001b[1;32m~\\AppData\\Local\\anaconda3\\lib\\site-packages\\pandas\\core\\nanops.py:93\u001b[0m, in \u001b[0;36mdisallow.__call__.<locals>._f\u001b[1;34m(*args, **kwargs)\u001b[0m\n\u001b[0;32m     91\u001b[0m \u001b[38;5;28;01mtry\u001b[39;00m:\n\u001b[0;32m     92\u001b[0m     \u001b[38;5;28;01mwith\u001b[39;00m np\u001b[38;5;241m.\u001b[39merrstate(invalid\u001b[38;5;241m=\u001b[39m\u001b[38;5;124m\"\u001b[39m\u001b[38;5;124mignore\u001b[39m\u001b[38;5;124m\"\u001b[39m):\n\u001b[1;32m---> 93\u001b[0m         \u001b[38;5;28;01mreturn\u001b[39;00m f(\u001b[38;5;241m*\u001b[39margs, \u001b[38;5;241m*\u001b[39m\u001b[38;5;241m*\u001b[39mkwargs)\n\u001b[0;32m     94\u001b[0m \u001b[38;5;28;01mexcept\u001b[39;00m \u001b[38;5;167;01mValueError\u001b[39;00m \u001b[38;5;28;01mas\u001b[39;00m e:\n\u001b[0;32m     95\u001b[0m     \u001b[38;5;66;03m# we want to transform an object array\u001b[39;00m\n\u001b[0;32m     96\u001b[0m     \u001b[38;5;66;03m# ValueError message to the more typical TypeError\u001b[39;00m\n\u001b[0;32m     97\u001b[0m     \u001b[38;5;66;03m# e.g. this is normally a disallowed function on\u001b[39;00m\n\u001b[0;32m     98\u001b[0m     \u001b[38;5;66;03m# object arrays that contain strings\u001b[39;00m\n\u001b[0;32m     99\u001b[0m     \u001b[38;5;28;01mif\u001b[39;00m is_object_dtype(args[\u001b[38;5;241m0\u001b[39m]):\n",
      "File \u001b[1;32m~\\AppData\\Local\\anaconda3\\lib\\site-packages\\pandas\\core\\nanops.py:1554\u001b[0m, in \u001b[0;36mnancorr\u001b[1;34m(a, b, method, min_periods)\u001b[0m\n\u001b[0;32m   1551\u001b[0m     \u001b[38;5;28;01mreturn\u001b[39;00m np\u001b[38;5;241m.\u001b[39mnan\n\u001b[0;32m   1553\u001b[0m f \u001b[38;5;241m=\u001b[39m get_corr_func(method)\n\u001b[1;32m-> 1554\u001b[0m \u001b[38;5;28;01mreturn\u001b[39;00m \u001b[43mf\u001b[49m\u001b[43m(\u001b[49m\u001b[43ma\u001b[49m\u001b[43m,\u001b[49m\u001b[43m \u001b[49m\u001b[43mb\u001b[49m\u001b[43m)\u001b[49m\n",
      "File \u001b[1;32m~\\AppData\\Local\\anaconda3\\lib\\site-packages\\pandas\\core\\nanops.py:1575\u001b[0m, in \u001b[0;36mget_corr_func.<locals>.func\u001b[1;34m(a, b)\u001b[0m\n\u001b[0;32m   1574\u001b[0m \u001b[38;5;28;01mdef\u001b[39;00m \u001b[38;5;21mfunc\u001b[39m(a, b):\n\u001b[1;32m-> 1575\u001b[0m     \u001b[38;5;28;01mreturn\u001b[39;00m \u001b[43mnp\u001b[49m\u001b[38;5;241;43m.\u001b[39;49m\u001b[43mcorrcoef\u001b[49m\u001b[43m(\u001b[49m\u001b[43ma\u001b[49m\u001b[43m,\u001b[49m\u001b[43m \u001b[49m\u001b[43mb\u001b[49m\u001b[43m)\u001b[49m[\u001b[38;5;241m0\u001b[39m, \u001b[38;5;241m1\u001b[39m]\n",
      "File \u001b[1;32m<__array_function__ internals>:180\u001b[0m, in \u001b[0;36mcorrcoef\u001b[1;34m(*args, **kwargs)\u001b[0m\n",
      "File \u001b[1;32m~\\AppData\\Local\\anaconda3\\lib\\site-packages\\numpy\\lib\\function_base.py:2845\u001b[0m, in \u001b[0;36mcorrcoef\u001b[1;34m(x, y, rowvar, bias, ddof, dtype)\u001b[0m\n\u001b[0;32m   2841\u001b[0m \u001b[38;5;28;01mif\u001b[39;00m bias \u001b[38;5;129;01mis\u001b[39;00m \u001b[38;5;129;01mnot\u001b[39;00m np\u001b[38;5;241m.\u001b[39m_NoValue \u001b[38;5;129;01mor\u001b[39;00m ddof \u001b[38;5;129;01mis\u001b[39;00m \u001b[38;5;129;01mnot\u001b[39;00m np\u001b[38;5;241m.\u001b[39m_NoValue:\n\u001b[0;32m   2842\u001b[0m     \u001b[38;5;66;03m# 2015-03-15, 1.10\u001b[39;00m\n\u001b[0;32m   2843\u001b[0m     warnings\u001b[38;5;241m.\u001b[39mwarn(\u001b[38;5;124m'\u001b[39m\u001b[38;5;124mbias and ddof have no effect and are deprecated\u001b[39m\u001b[38;5;124m'\u001b[39m,\n\u001b[0;32m   2844\u001b[0m                   \u001b[38;5;167;01mDeprecationWarning\u001b[39;00m, stacklevel\u001b[38;5;241m=\u001b[39m\u001b[38;5;241m3\u001b[39m)\n\u001b[1;32m-> 2845\u001b[0m c \u001b[38;5;241m=\u001b[39m \u001b[43mcov\u001b[49m\u001b[43m(\u001b[49m\u001b[43mx\u001b[49m\u001b[43m,\u001b[49m\u001b[43m \u001b[49m\u001b[43my\u001b[49m\u001b[43m,\u001b[49m\u001b[43m \u001b[49m\u001b[43mrowvar\u001b[49m\u001b[43m,\u001b[49m\u001b[43m \u001b[49m\u001b[43mdtype\u001b[49m\u001b[38;5;241;43m=\u001b[39;49m\u001b[43mdtype\u001b[49m\u001b[43m)\u001b[49m\n\u001b[0;32m   2846\u001b[0m \u001b[38;5;28;01mtry\u001b[39;00m:\n\u001b[0;32m   2847\u001b[0m     d \u001b[38;5;241m=\u001b[39m diag(c)\n",
      "File \u001b[1;32m<__array_function__ internals>:180\u001b[0m, in \u001b[0;36mcov\u001b[1;34m(*args, **kwargs)\u001b[0m\n",
      "File \u001b[1;32m~\\AppData\\Local\\anaconda3\\lib\\site-packages\\numpy\\lib\\function_base.py:2680\u001b[0m, in \u001b[0;36mcov\u001b[1;34m(m, y, rowvar, bias, ddof, fweights, aweights, dtype)\u001b[0m\n\u001b[0;32m   2677\u001b[0m     \u001b[38;5;28;01melse\u001b[39;00m:\n\u001b[0;32m   2678\u001b[0m         w \u001b[38;5;241m*\u001b[39m\u001b[38;5;241m=\u001b[39m aweights\n\u001b[1;32m-> 2680\u001b[0m avg, w_sum \u001b[38;5;241m=\u001b[39m \u001b[43maverage\u001b[49m\u001b[43m(\u001b[49m\u001b[43mX\u001b[49m\u001b[43m,\u001b[49m\u001b[43m \u001b[49m\u001b[43maxis\u001b[49m\u001b[38;5;241;43m=\u001b[39;49m\u001b[38;5;241;43m1\u001b[39;49m\u001b[43m,\u001b[49m\u001b[43m \u001b[49m\u001b[43mweights\u001b[49m\u001b[38;5;241;43m=\u001b[39;49m\u001b[43mw\u001b[49m\u001b[43m,\u001b[49m\u001b[43m \u001b[49m\u001b[43mreturned\u001b[49m\u001b[38;5;241;43m=\u001b[39;49m\u001b[38;5;28;43;01mTrue\u001b[39;49;00m\u001b[43m)\u001b[49m\n\u001b[0;32m   2681\u001b[0m w_sum \u001b[38;5;241m=\u001b[39m w_sum[\u001b[38;5;241m0\u001b[39m]\n\u001b[0;32m   2683\u001b[0m \u001b[38;5;66;03m# Determine the normalization\u001b[39;00m\n",
      "File \u001b[1;32m<__array_function__ internals>:180\u001b[0m, in \u001b[0;36maverage\u001b[1;34m(*args, **kwargs)\u001b[0m\n",
      "File \u001b[1;32m~\\AppData\\Local\\anaconda3\\lib\\site-packages\\numpy\\lib\\function_base.py:518\u001b[0m, in \u001b[0;36maverage\u001b[1;34m(a, axis, weights, returned, keepdims)\u001b[0m\n\u001b[0;32m    515\u001b[0m     keepdims_kw \u001b[38;5;241m=\u001b[39m {\u001b[38;5;124m'\u001b[39m\u001b[38;5;124mkeepdims\u001b[39m\u001b[38;5;124m'\u001b[39m: keepdims}\n\u001b[0;32m    517\u001b[0m \u001b[38;5;28;01mif\u001b[39;00m weights \u001b[38;5;129;01mis\u001b[39;00m \u001b[38;5;28;01mNone\u001b[39;00m:\n\u001b[1;32m--> 518\u001b[0m     avg \u001b[38;5;241m=\u001b[39m a\u001b[38;5;241m.\u001b[39mmean(axis, \u001b[38;5;241m*\u001b[39m\u001b[38;5;241m*\u001b[39mkeepdims_kw)\n\u001b[0;32m    519\u001b[0m     scl \u001b[38;5;241m=\u001b[39m avg\u001b[38;5;241m.\u001b[39mdtype\u001b[38;5;241m.\u001b[39mtype(a\u001b[38;5;241m.\u001b[39msize\u001b[38;5;241m/\u001b[39mavg\u001b[38;5;241m.\u001b[39msize)\n\u001b[0;32m    520\u001b[0m \u001b[38;5;28;01melse\u001b[39;00m:\n",
      "File \u001b[1;32m~\\AppData\\Local\\anaconda3\\lib\\site-packages\\numpy\\core\\_methods.py:182\u001b[0m, in \u001b[0;36m_mean\u001b[1;34m(a, axis, dtype, out, keepdims, where)\u001b[0m\n\u001b[0;32m    180\u001b[0m ret \u001b[38;5;241m=\u001b[39m umr_sum(arr, axis, dtype, out, keepdims, where\u001b[38;5;241m=\u001b[39mwhere)\n\u001b[0;32m    181\u001b[0m \u001b[38;5;28;01mif\u001b[39;00m \u001b[38;5;28misinstance\u001b[39m(ret, mu\u001b[38;5;241m.\u001b[39mndarray):\n\u001b[1;32m--> 182\u001b[0m     ret \u001b[38;5;241m=\u001b[39m \u001b[43mum\u001b[49m\u001b[38;5;241;43m.\u001b[39;49m\u001b[43mtrue_divide\u001b[49m\u001b[43m(\u001b[49m\n\u001b[0;32m    183\u001b[0m \u001b[43m            \u001b[49m\u001b[43mret\u001b[49m\u001b[43m,\u001b[49m\u001b[43m \u001b[49m\u001b[43mrcount\u001b[49m\u001b[43m,\u001b[49m\u001b[43m \u001b[49m\u001b[43mout\u001b[49m\u001b[38;5;241;43m=\u001b[39;49m\u001b[43mret\u001b[49m\u001b[43m,\u001b[49m\u001b[43m \u001b[49m\u001b[43mcasting\u001b[49m\u001b[38;5;241;43m=\u001b[39;49m\u001b[38;5;124;43m'\u001b[39;49m\u001b[38;5;124;43munsafe\u001b[39;49m\u001b[38;5;124;43m'\u001b[39;49m\u001b[43m,\u001b[49m\u001b[43m \u001b[49m\u001b[43msubok\u001b[49m\u001b[38;5;241;43m=\u001b[39;49m\u001b[38;5;28;43;01mFalse\u001b[39;49;00m\u001b[43m)\u001b[49m\n\u001b[0;32m    184\u001b[0m     \u001b[38;5;28;01mif\u001b[39;00m is_float16_result \u001b[38;5;129;01mand\u001b[39;00m out \u001b[38;5;129;01mis\u001b[39;00m \u001b[38;5;28;01mNone\u001b[39;00m:\n\u001b[0;32m    185\u001b[0m         ret \u001b[38;5;241m=\u001b[39m arr\u001b[38;5;241m.\u001b[39mdtype\u001b[38;5;241m.\u001b[39mtype(ret)\n",
      "\u001b[1;31mTypeError\u001b[0m: unsupported operand type(s) for /: 'str' and 'int'"
     ]
    }
   ],
   "source": [
    "for column1 in df.columns:\n",
    "    for column2 in df.columns:\n",
    "        if column1 == column2:\n",
    "            pass\n",
    "        else: \n",
    "            print(f'First column: {column1} , Second column: {column2} , Correlation: {df[column1].corr(df[column2])}')"
   ]
  },
  {
   "cell_type": "markdown",
   "id": "77cd3d36",
   "metadata": {},
   "source": [
    "# -- Covariance"
   ]
  },
  {
   "cell_type": "code",
   "execution_count": 9,
   "id": "f50f2986",
   "metadata": {},
   "outputs": [
    {
     "data": {
      "text/html": [
       "<div>\n",
       "<style scoped>\n",
       "    .dataframe tbody tr th:only-of-type {\n",
       "        vertical-align: middle;\n",
       "    }\n",
       "\n",
       "    .dataframe tbody tr th {\n",
       "        vertical-align: top;\n",
       "    }\n",
       "\n",
       "    .dataframe thead th {\n",
       "        text-align: right;\n",
       "    }\n",
       "</style>\n",
       "<table border=\"1\" class=\"dataframe\">\n",
       "  <thead>\n",
       "    <tr style=\"text-align: right;\">\n",
       "      <th></th>\n",
       "      <th>rev_Mean</th>\n",
       "      <th>mou_Mean</th>\n",
       "      <th>totmrc_Mean</th>\n",
       "      <th>da_Mean</th>\n",
       "      <th>ovrmou_Mean</th>\n",
       "      <th>ovrrev_Mean</th>\n",
       "      <th>vceovr_Mean</th>\n",
       "      <th>datovr_Mean</th>\n",
       "      <th>roam_Mean</th>\n",
       "      <th>change_mou</th>\n",
       "      <th>...</th>\n",
       "      <th>models</th>\n",
       "      <th>truck</th>\n",
       "      <th>rv</th>\n",
       "      <th>lor</th>\n",
       "      <th>adults</th>\n",
       "      <th>income</th>\n",
       "      <th>numbcars</th>\n",
       "      <th>forgntvl</th>\n",
       "      <th>eqpdays</th>\n",
       "      <th>Customer_ID</th>\n",
       "    </tr>\n",
       "  </thead>\n",
       "  <tbody>\n",
       "    <tr>\n",
       "      <th>rev_Mean</th>\n",
       "      <td>2278.097986</td>\n",
       "      <td>20166.591741</td>\n",
       "      <td>881.079020</td>\n",
       "      <td>52.092637</td>\n",
       "      <td>4272.988944</td>\n",
       "      <td>1139.551783</td>\n",
       "      <td>1099.635835</td>\n",
       "      <td>39.886053</td>\n",
       "      <td>97.914089</td>\n",
       "      <td>-911.527385</td>\n",
       "      <td>...</td>\n",
       "      <td>22.676890</td>\n",
       "      <td>-0.620277</td>\n",
       "      <td>-0.109310</td>\n",
       "      <td>-18.254698</td>\n",
       "      <td>-2.524131</td>\n",
       "      <td>-3.860061</td>\n",
       "      <td>-0.246858</td>\n",
       "      <td>-0.639937</td>\n",
       "      <td>-6372.474614</td>\n",
       "      <td>-1.051268e+04</td>\n",
       "    </tr>\n",
       "    <tr>\n",
       "      <th>mou_Mean</th>\n",
       "      <td>20166.591741</td>\n",
       "      <td>296336.152552</td>\n",
       "      <td>9523.829853</td>\n",
       "      <td>568.245575</td>\n",
       "      <td>39700.395450</td>\n",
       "      <td>9190.861092</td>\n",
       "      <td>8935.986141</td>\n",
       "      <td>254.686984</td>\n",
       "      <td>589.851987</td>\n",
       "      <td>-11557.302558</td>\n",
       "      <td>...</td>\n",
       "      <td>353.172021</td>\n",
       "      <td>-6.967763</td>\n",
       "      <td>-2.708018</td>\n",
       "      <td>-201.441712</td>\n",
       "      <td>-21.114638</td>\n",
       "      <td>-100.795047</td>\n",
       "      <td>3.182636</td>\n",
       "      <td>-8.647976</td>\n",
       "      <td>-89937.640183</td>\n",
       "      <td>-1.674268e+05</td>\n",
       "    </tr>\n",
       "    <tr>\n",
       "      <th>totmrc_Mean</th>\n",
       "      <td>881.079020</td>\n",
       "      <td>9523.829853</td>\n",
       "      <td>725.825001</td>\n",
       "      <td>22.696752</td>\n",
       "      <td>683.735892</td>\n",
       "      <td>146.773949</td>\n",
       "      <td>144.410368</td>\n",
       "      <td>2.343450</td>\n",
       "      <td>23.166793</td>\n",
       "      <td>-498.898979</td>\n",
       "      <td>...</td>\n",
       "      <td>14.228301</td>\n",
       "      <td>-0.343780</td>\n",
       "      <td>-0.098672</td>\n",
       "      <td>-9.602073</td>\n",
       "      <td>-1.316910</td>\n",
       "      <td>-1.140175</td>\n",
       "      <td>0.109253</td>\n",
       "      <td>-0.243439</td>\n",
       "      <td>-3901.219314</td>\n",
       "      <td>-5.737193e+03</td>\n",
       "    </tr>\n",
       "    <tr>\n",
       "      <th>da_Mean</th>\n",
       "      <td>52.092637</td>\n",
       "      <td>568.245575</td>\n",
       "      <td>22.696752</td>\n",
       "      <td>6.008286</td>\n",
       "      <td>88.657547</td>\n",
       "      <td>20.302481</td>\n",
       "      <td>19.863940</td>\n",
       "      <td>0.437966</td>\n",
       "      <td>2.295609</td>\n",
       "      <td>-22.702554</td>\n",
       "      <td>...</td>\n",
       "      <td>0.713729</td>\n",
       "      <td>-0.024136</td>\n",
       "      <td>-0.003964</td>\n",
       "      <td>-0.731880</td>\n",
       "      <td>-0.149676</td>\n",
       "      <td>0.109151</td>\n",
       "      <td>-0.015591</td>\n",
       "      <td>-0.020580</td>\n",
       "      <td>-177.196941</td>\n",
       "      <td>-4.171657e+02</td>\n",
       "    </tr>\n",
       "    <tr>\n",
       "      <th>ovrmou_Mean</th>\n",
       "      <td>4272.988944</td>\n",
       "      <td>39700.395450</td>\n",
       "      <td>683.735892</td>\n",
       "      <td>88.657547</td>\n",
       "      <td>14477.725664</td>\n",
       "      <td>3284.296486</td>\n",
       "      <td>3192.657239</td>\n",
       "      <td>91.619973</td>\n",
       "      <td>56.421999</td>\n",
       "      <td>-1748.571586</td>\n",
       "      <td>...</td>\n",
       "      <td>31.783606</td>\n",
       "      <td>-0.489482</td>\n",
       "      <td>0.094977</td>\n",
       "      <td>-31.621677</td>\n",
       "      <td>-3.580239</td>\n",
       "      <td>-6.209843</td>\n",
       "      <td>-0.589256</td>\n",
       "      <td>-1.283227</td>\n",
       "      <td>-7540.863014</td>\n",
       "      <td>-2.342684e+04</td>\n",
       "    </tr>\n",
       "    <tr>\n",
       "      <th>...</th>\n",
       "      <td>...</td>\n",
       "      <td>...</td>\n",
       "      <td>...</td>\n",
       "      <td>...</td>\n",
       "      <td>...</td>\n",
       "      <td>...</td>\n",
       "      <td>...</td>\n",
       "      <td>...</td>\n",
       "      <td>...</td>\n",
       "      <td>...</td>\n",
       "      <td>...</td>\n",
       "      <td>...</td>\n",
       "      <td>...</td>\n",
       "      <td>...</td>\n",
       "      <td>...</td>\n",
       "      <td>...</td>\n",
       "      <td>...</td>\n",
       "      <td>...</td>\n",
       "      <td>...</td>\n",
       "      <td>...</td>\n",
       "      <td>...</td>\n",
       "    </tr>\n",
       "    <tr>\n",
       "      <th>income</th>\n",
       "      <td>-3.860061</td>\n",
       "      <td>-100.795047</td>\n",
       "      <td>-1.140175</td>\n",
       "      <td>0.109151</td>\n",
       "      <td>-6.209843</td>\n",
       "      <td>-2.026749</td>\n",
       "      <td>-1.968492</td>\n",
       "      <td>-0.055282</td>\n",
       "      <td>-0.034594</td>\n",
       "      <td>-2.603047</td>\n",
       "      <td>...</td>\n",
       "      <td>-0.294007</td>\n",
       "      <td>0.036847</td>\n",
       "      <td>0.075424</td>\n",
       "      <td>0.000405</td>\n",
       "      <td>0.202126</td>\n",
       "      <td>4.601466</td>\n",
       "      <td>0.044791</td>\n",
       "      <td>0.050044</td>\n",
       "      <td>92.563546</td>\n",
       "      <td>1.130847e+02</td>\n",
       "    </tr>\n",
       "    <tr>\n",
       "      <th>numbcars</th>\n",
       "      <td>-0.246858</td>\n",
       "      <td>3.182636</td>\n",
       "      <td>0.109253</td>\n",
       "      <td>-0.015591</td>\n",
       "      <td>-0.589256</td>\n",
       "      <td>-0.265339</td>\n",
       "      <td>-0.267117</td>\n",
       "      <td>0.001697</td>\n",
       "      <td>-0.090411</td>\n",
       "      <td>-1.897677</td>\n",
       "      <td>...</td>\n",
       "      <td>0.015565</td>\n",
       "      <td>0.002448</td>\n",
       "      <td>0.000912</td>\n",
       "      <td>0.331006</td>\n",
       "      <td>0.226765</td>\n",
       "      <td>0.044791</td>\n",
       "      <td>0.401505</td>\n",
       "      <td>0.005465</td>\n",
       "      <td>-4.859675</td>\n",
       "      <td>-2.875349e+01</td>\n",
       "    </tr>\n",
       "    <tr>\n",
       "      <th>forgntvl</th>\n",
       "      <td>-0.639937</td>\n",
       "      <td>-8.647976</td>\n",
       "      <td>-0.243439</td>\n",
       "      <td>-0.020580</td>\n",
       "      <td>-1.283227</td>\n",
       "      <td>-0.338398</td>\n",
       "      <td>-0.338628</td>\n",
       "      <td>0.000162</td>\n",
       "      <td>-0.013965</td>\n",
       "      <td>0.068917</td>\n",
       "      <td>...</td>\n",
       "      <td>-0.009725</td>\n",
       "      <td>0.003310</td>\n",
       "      <td>0.004844</td>\n",
       "      <td>0.089609</td>\n",
       "      <td>0.042644</td>\n",
       "      <td>0.050044</td>\n",
       "      <td>0.005465</td>\n",
       "      <td>0.071931</td>\n",
       "      <td>3.731281</td>\n",
       "      <td>4.839471e+00</td>\n",
       "    </tr>\n",
       "    <tr>\n",
       "      <th>eqpdays</th>\n",
       "      <td>-6372.474614</td>\n",
       "      <td>-89937.640183</td>\n",
       "      <td>-3901.219314</td>\n",
       "      <td>-177.196941</td>\n",
       "      <td>-7540.863014</td>\n",
       "      <td>-2087.354045</td>\n",
       "      <td>-2023.176978</td>\n",
       "      <td>-63.917854</td>\n",
       "      <td>-146.735751</td>\n",
       "      <td>1546.359162</td>\n",
       "      <td>...</td>\n",
       "      <td>-360.987615</td>\n",
       "      <td>1.127978</td>\n",
       "      <td>0.409595</td>\n",
       "      <td>127.466636</td>\n",
       "      <td>9.865823</td>\n",
       "      <td>92.563546</td>\n",
       "      <td>-4.859675</td>\n",
       "      <td>3.731281</td>\n",
       "      <td>164556.135361</td>\n",
       "      <td>-3.923822e+04</td>\n",
       "    </tr>\n",
       "    <tr>\n",
       "      <th>Customer_ID</th>\n",
       "      <td>-10512.679543</td>\n",
       "      <td>-167426.786933</td>\n",
       "      <td>-5737.192535</td>\n",
       "      <td>-417.165706</td>\n",
       "      <td>-23426.835170</td>\n",
       "      <td>-2165.466160</td>\n",
       "      <td>-2025.827422</td>\n",
       "      <td>-143.503151</td>\n",
       "      <td>21.561385</td>\n",
       "      <td>19983.850760</td>\n",
       "      <td>...</td>\n",
       "      <td>-852.305281</td>\n",
       "      <td>-21.464586</td>\n",
       "      <td>-15.412821</td>\n",
       "      <td>-324.256258</td>\n",
       "      <td>25.156865</td>\n",
       "      <td>113.084655</td>\n",
       "      <td>-28.753486</td>\n",
       "      <td>4.839471</td>\n",
       "      <td>-39238.224222</td>\n",
       "      <td>8.334167e+06</td>\n",
       "    </tr>\n",
       "  </tbody>\n",
       "</table>\n",
       "<p>79 rows × 79 columns</p>\n",
       "</div>"
      ],
      "text/plain": [
       "                 rev_Mean       mou_Mean  totmrc_Mean     da_Mean  \\\n",
       "rev_Mean      2278.097986   20166.591741   881.079020   52.092637   \n",
       "mou_Mean     20166.591741  296336.152552  9523.829853  568.245575   \n",
       "totmrc_Mean    881.079020    9523.829853   725.825001   22.696752   \n",
       "da_Mean         52.092637     568.245575    22.696752    6.008286   \n",
       "ovrmou_Mean   4272.988944   39700.395450   683.735892   88.657547   \n",
       "...                   ...            ...          ...         ...   \n",
       "income          -3.860061    -100.795047    -1.140175    0.109151   \n",
       "numbcars        -0.246858       3.182636     0.109253   -0.015591   \n",
       "forgntvl        -0.639937      -8.647976    -0.243439   -0.020580   \n",
       "eqpdays      -6372.474614  -89937.640183 -3901.219314 -177.196941   \n",
       "Customer_ID -10512.679543 -167426.786933 -5737.192535 -417.165706   \n",
       "\n",
       "              ovrmou_Mean  ovrrev_Mean  vceovr_Mean  datovr_Mean   roam_Mean  \\\n",
       "rev_Mean      4272.988944  1139.551783  1099.635835    39.886053   97.914089   \n",
       "mou_Mean     39700.395450  9190.861092  8935.986141   254.686984  589.851987   \n",
       "totmrc_Mean    683.735892   146.773949   144.410368     2.343450   23.166793   \n",
       "da_Mean         88.657547    20.302481    19.863940     0.437966    2.295609   \n",
       "ovrmou_Mean  14477.725664  3284.296486  3192.657239    91.619973   56.421999   \n",
       "...                   ...          ...          ...          ...         ...   \n",
       "income          -6.209843    -2.026749    -1.968492    -0.055282   -0.034594   \n",
       "numbcars        -0.589256    -0.265339    -0.267117     0.001697   -0.090411   \n",
       "forgntvl        -1.283227    -0.338398    -0.338628     0.000162   -0.013965   \n",
       "eqpdays      -7540.863014 -2087.354045 -2023.176978   -63.917854 -146.735751   \n",
       "Customer_ID -23426.835170 -2165.466160 -2025.827422  -143.503151   21.561385   \n",
       "\n",
       "               change_mou  ...      models      truck         rv         lor  \\\n",
       "rev_Mean      -911.527385  ...   22.676890  -0.620277  -0.109310  -18.254698   \n",
       "mou_Mean    -11557.302558  ...  353.172021  -6.967763  -2.708018 -201.441712   \n",
       "totmrc_Mean   -498.898979  ...   14.228301  -0.343780  -0.098672   -9.602073   \n",
       "da_Mean        -22.702554  ...    0.713729  -0.024136  -0.003964   -0.731880   \n",
       "ovrmou_Mean  -1748.571586  ...   31.783606  -0.489482   0.094977  -31.621677   \n",
       "...                   ...  ...         ...        ...        ...         ...   \n",
       "income          -2.603047  ...   -0.294007   0.036847   0.075424    0.000405   \n",
       "numbcars        -1.897677  ...    0.015565   0.002448   0.000912    0.331006   \n",
       "forgntvl         0.068917  ...   -0.009725   0.003310   0.004844    0.089609   \n",
       "eqpdays       1546.359162  ... -360.987615   1.127978   0.409595  127.466636   \n",
       "Customer_ID  19983.850760  ... -852.305281 -21.464586 -15.412821 -324.256258   \n",
       "\n",
       "                adults      income   numbcars  forgntvl        eqpdays  \\\n",
       "rev_Mean     -2.524131   -3.860061  -0.246858 -0.639937   -6372.474614   \n",
       "mou_Mean    -21.114638 -100.795047   3.182636 -8.647976  -89937.640183   \n",
       "totmrc_Mean  -1.316910   -1.140175   0.109253 -0.243439   -3901.219314   \n",
       "da_Mean      -0.149676    0.109151  -0.015591 -0.020580    -177.196941   \n",
       "ovrmou_Mean  -3.580239   -6.209843  -0.589256 -1.283227   -7540.863014   \n",
       "...                ...         ...        ...       ...            ...   \n",
       "income        0.202126    4.601466   0.044791  0.050044      92.563546   \n",
       "numbcars      0.226765    0.044791   0.401505  0.005465      -4.859675   \n",
       "forgntvl      0.042644    0.050044   0.005465  0.071931       3.731281   \n",
       "eqpdays       9.865823   92.563546  -4.859675  3.731281  164556.135361   \n",
       "Customer_ID  25.156865  113.084655 -28.753486  4.839471  -39238.224222   \n",
       "\n",
       "              Customer_ID  \n",
       "rev_Mean    -1.051268e+04  \n",
       "mou_Mean    -1.674268e+05  \n",
       "totmrc_Mean -5.737193e+03  \n",
       "da_Mean     -4.171657e+02  \n",
       "ovrmou_Mean -2.342684e+04  \n",
       "...                   ...  \n",
       "income       1.130847e+02  \n",
       "numbcars    -2.875349e+01  \n",
       "forgntvl     4.839471e+00  \n",
       "eqpdays     -3.923822e+04  \n",
       "Customer_ID  8.334167e+06  \n",
       "\n",
       "[79 rows x 79 columns]"
      ]
     },
     "execution_count": 9,
     "metadata": {},
     "output_type": "execute_result"
    }
   ],
   "source": [
    "#Covariance is a statistical measure that describes the relationship between two columns\n",
    "#If the covariance between two variables is positive, it means that they tend to vary together in the same direction\n",
    "#Covariance can take any numerical value, positive or negative, depending on the data. No limit which correlations have \n",
    "df.cov()"
   ]
  },
  {
   "cell_type": "code",
   "execution_count": 10,
   "id": "8d891e17",
   "metadata": {},
   "outputs": [
    {
     "name": "stdout",
     "output_type": "stream",
     "text": [
      "First column: rev_Mean , Second column: mou_Mean , Correlation: 20166.591741351935\n",
      "First column: rev_Mean , Second column: totmrc_Mean , Correlation: 881.0790198827334\n",
      "First column: rev_Mean , Second column: da_Mean , Correlation: 52.092636766109294\n",
      "First column: rev_Mean , Second column: ovrmou_Mean , Correlation: 4272.988943832329\n",
      "First column: rev_Mean , Second column: ovrrev_Mean , Correlation: 1139.551782512233\n",
      "First column: rev_Mean , Second column: vceovr_Mean , Correlation: 1099.635834702642\n",
      "First column: rev_Mean , Second column: datovr_Mean , Correlation: 39.88605303566684\n",
      "First column: rev_Mean , Second column: roam_Mean , Correlation: 97.9140885904085\n",
      "First column: rev_Mean , Second column: change_mou , Correlation: -911.5273850005075\n",
      "First column: rev_Mean , Second column: change_rev , Correlation: -181.98553437611343\n",
      "First column: rev_Mean , Second column: drop_vce_Mean , Correlation: 176.67908323281333\n",
      "First column: rev_Mean , Second column: drop_dat_Mean , Correlation: 1.94037248472123\n",
      "First column: rev_Mean , Second column: blck_vce_Mean , Correlation: 95.57149338821453\n",
      "First column: rev_Mean , Second column: blck_dat_Mean , Correlation: 0.3426451583589869\n",
      "First column: rev_Mean , Second column: unan_vce_Mean , Correlation: 792.1070072303049\n",
      "First column: rev_Mean , Second column: unan_dat_Mean , Correlation: 2.8586968301514677\n",
      "First column: rev_Mean , Second column: plcd_vce_Mean , Correlation: 4875.5299355120815\n",
      "First column: rev_Mean , Second column: plcd_dat_Mean , Correlation: 76.95033745286773\n",
      "First column: rev_Mean , Second column: recv_vce_Mean , Correlation: 2310.9692553664067\n",
      "First column: rev_Mean , Second column: recv_sms_Mean , Correlation: 1.5123179755789664\n",
      "First column: rev_Mean , Second column: comp_vce_Mean , Correlation: 3874.06591272769\n",
      "First column: rev_Mean , Second column: comp_dat_Mean , Correlation: 71.8086229807459\n",
      "First column: rev_Mean , Second column: custcare_Mean , Correlation: 19.774166704887612\n",
      "First column: rev_Mean , Second column: ccrndmou_Mean , Correlation: 90.71841318469787\n",
      "First column: rev_Mean , Second column: cc_mou_Mean , Correlation: 79.50209684493446\n",
      "First column: rev_Mean , Second column: inonemin_Mean , Correlation: 1158.6103182713543\n",
      "First column: rev_Mean , Second column: threeway_Mean , Correlation: 7.8156870619170835\n",
      "First column: rev_Mean , Second column: mou_cvce_Mean , Correlation: 8068.547496883483\n",
      "First column: rev_Mean , Second column: mou_cdat_Mean , Correlation: 172.09405873727084\n",
      "First column: rev_Mean , Second column: mou_rvce_Mean , Correlation: 5261.703718139188\n",
      "First column: rev_Mean , Second column: owylis_vce_Mean , Correlation: 961.8612877562063\n",
      "First column: rev_Mean , Second column: mouowylisv_Mean , Correlation: 1204.0779247365642\n",
      "First column: rev_Mean , Second column: iwylis_vce_Mean , Correlation: 355.510176187316\n",
      "First column: rev_Mean , Second column: mouiwylisv_Mean , Correlation: 822.2842042717208\n",
      "First column: rev_Mean , Second column: peak_vce_Mean , Correlation: 4059.8168867549334\n",
      "First column: rev_Mean , Second column: peak_dat_Mean , Correlation: 26.603730254854508\n",
      "First column: rev_Mean , Second column: mou_peav_Mean , Correlation: 9021.601273983983\n",
      "First column: rev_Mean , Second column: mou_pead_Mean , Correlation: 42.51997340454275\n",
      "First column: rev_Mean , Second column: opk_vce_Mean , Correlation: 1786.7327808366556\n",
      "First column: rev_Mean , Second column: opk_dat_Mean , Correlation: 45.20489272631515\n",
      "First column: rev_Mean , Second column: mou_opkv_Mean , Correlation: 4305.870227607228\n",
      "First column: rev_Mean , Second column: mou_opkd_Mean , Correlation: 129.57371008389106\n",
      "First column: rev_Mean , Second column: drop_blk_Mean , Correlation: 274.53359426131306\n",
      "First column: rev_Mean , Second column: attempt_Mean , Correlation: 4952.480272988785\n",
      "First column: rev_Mean , Second column: complete_Mean , Correlation: 3945.8745357360976\n",
      "First column: rev_Mean , Second column: callfwdv_Mean , Correlation: 0.4870469909494616\n",
      "First column: rev_Mean , Second column: callwait_Mean , Correlation: 146.1842796572055\n",
      "First column: rev_Mean , Second column: churn , Correlation: -1.8836664190217245\n",
      "First column: rev_Mean , Second column: months , Correlation: 30.637424321912004\n",
      "First column: rev_Mean , Second column: uniqsubs , Correlation: 2.7383285225387968\n",
      "First column: rev_Mean , Second column: actvsubs , Correlation: 1.466399037150575\n"
     ]
    },
    {
     "ename": "TypeError",
     "evalue": "unsupported operand type(s) for /: 'str' and 'int'",
     "output_type": "error",
     "traceback": [
      "\u001b[1;31m---------------------------------------------------------------------------\u001b[0m",
      "\u001b[1;31mTypeError\u001b[0m                                 Traceback (most recent call last)",
      "Input \u001b[1;32mIn [10]\u001b[0m, in \u001b[0;36m<cell line: 1>\u001b[1;34m()\u001b[0m\n\u001b[0;32m      4\u001b[0m     \u001b[38;5;28;01mpass\u001b[39;00m\n\u001b[0;32m      5\u001b[0m \u001b[38;5;28;01melse\u001b[39;00m: \n\u001b[1;32m----> 6\u001b[0m     \u001b[38;5;28mprint\u001b[39m(\u001b[38;5;124mf\u001b[39m\u001b[38;5;124m'\u001b[39m\u001b[38;5;124mFirst column: \u001b[39m\u001b[38;5;132;01m{\u001b[39;00mcolumn1\u001b[38;5;132;01m}\u001b[39;00m\u001b[38;5;124m , Second column: \u001b[39m\u001b[38;5;132;01m{\u001b[39;00mcolumn2\u001b[38;5;132;01m}\u001b[39;00m\u001b[38;5;124m , Correlation: \u001b[39m\u001b[38;5;132;01m{\u001b[39;00mdf[column1]\u001b[38;5;241m.\u001b[39mcov(df[column2])\u001b[38;5;132;01m}\u001b[39;00m\u001b[38;5;124m'\u001b[39m)\n",
      "File \u001b[1;32m~\\anaconda3\\lib\\site-packages\\pandas\\core\\series.py:2608\u001b[0m, in \u001b[0;36mSeries.cov\u001b[1;34m(self, other, min_periods, ddof)\u001b[0m\n\u001b[0;32m   2606\u001b[0m \u001b[38;5;28;01mif\u001b[39;00m \u001b[38;5;28mlen\u001b[39m(this) \u001b[38;5;241m==\u001b[39m \u001b[38;5;241m0\u001b[39m:\n\u001b[0;32m   2607\u001b[0m     \u001b[38;5;28;01mreturn\u001b[39;00m np\u001b[38;5;241m.\u001b[39mnan\n\u001b[1;32m-> 2608\u001b[0m \u001b[38;5;28;01mreturn\u001b[39;00m \u001b[43mnanops\u001b[49m\u001b[38;5;241;43m.\u001b[39;49m\u001b[43mnancov\u001b[49m\u001b[43m(\u001b[49m\n\u001b[0;32m   2609\u001b[0m \u001b[43m    \u001b[49m\u001b[43mthis\u001b[49m\u001b[38;5;241;43m.\u001b[39;49m\u001b[43mvalues\u001b[49m\u001b[43m,\u001b[49m\u001b[43m \u001b[49m\u001b[43mother\u001b[49m\u001b[38;5;241;43m.\u001b[39;49m\u001b[43mvalues\u001b[49m\u001b[43m,\u001b[49m\u001b[43m \u001b[49m\u001b[43mmin_periods\u001b[49m\u001b[38;5;241;43m=\u001b[39;49m\u001b[43mmin_periods\u001b[49m\u001b[43m,\u001b[49m\u001b[43m \u001b[49m\u001b[43mddof\u001b[49m\u001b[38;5;241;43m=\u001b[39;49m\u001b[43mddof\u001b[49m\n\u001b[0;32m   2610\u001b[0m \u001b[43m\u001b[49m\u001b[43m)\u001b[49m\n",
      "File \u001b[1;32m~\\anaconda3\\lib\\site-packages\\pandas\\core\\nanops.py:93\u001b[0m, in \u001b[0;36mdisallow.__call__.<locals>._f\u001b[1;34m(*args, **kwargs)\u001b[0m\n\u001b[0;32m     91\u001b[0m \u001b[38;5;28;01mtry\u001b[39;00m:\n\u001b[0;32m     92\u001b[0m     \u001b[38;5;28;01mwith\u001b[39;00m np\u001b[38;5;241m.\u001b[39merrstate(invalid\u001b[38;5;241m=\u001b[39m\u001b[38;5;124m\"\u001b[39m\u001b[38;5;124mignore\u001b[39m\u001b[38;5;124m\"\u001b[39m):\n\u001b[1;32m---> 93\u001b[0m         \u001b[38;5;28;01mreturn\u001b[39;00m f(\u001b[38;5;241m*\u001b[39margs, \u001b[38;5;241m*\u001b[39m\u001b[38;5;241m*\u001b[39mkwargs)\n\u001b[0;32m     94\u001b[0m \u001b[38;5;28;01mexcept\u001b[39;00m \u001b[38;5;167;01mValueError\u001b[39;00m \u001b[38;5;28;01mas\u001b[39;00m e:\n\u001b[0;32m     95\u001b[0m     \u001b[38;5;66;03m# we want to transform an object array\u001b[39;00m\n\u001b[0;32m     96\u001b[0m     \u001b[38;5;66;03m# ValueError message to the more typical TypeError\u001b[39;00m\n\u001b[0;32m     97\u001b[0m     \u001b[38;5;66;03m# e.g. this is normally a disallowed function on\u001b[39;00m\n\u001b[0;32m     98\u001b[0m     \u001b[38;5;66;03m# object arrays that contain strings\u001b[39;00m\n\u001b[0;32m     99\u001b[0m     \u001b[38;5;28;01mif\u001b[39;00m is_object_dtype(args[\u001b[38;5;241m0\u001b[39m]):\n",
      "File \u001b[1;32m~\\anaconda3\\lib\\site-packages\\pandas\\core\\nanops.py:1601\u001b[0m, in \u001b[0;36mnancov\u001b[1;34m(a, b, min_periods, ddof)\u001b[0m\n\u001b[0;32m   1598\u001b[0m \u001b[38;5;28;01mif\u001b[39;00m \u001b[38;5;28mlen\u001b[39m(a) \u001b[38;5;241m<\u001b[39m min_periods:\n\u001b[0;32m   1599\u001b[0m     \u001b[38;5;28;01mreturn\u001b[39;00m np\u001b[38;5;241m.\u001b[39mnan\n\u001b[1;32m-> 1601\u001b[0m \u001b[38;5;28;01mreturn\u001b[39;00m \u001b[43mnp\u001b[49m\u001b[38;5;241;43m.\u001b[39;49m\u001b[43mcov\u001b[49m\u001b[43m(\u001b[49m\u001b[43ma\u001b[49m\u001b[43m,\u001b[49m\u001b[43m \u001b[49m\u001b[43mb\u001b[49m\u001b[43m,\u001b[49m\u001b[43m \u001b[49m\u001b[43mddof\u001b[49m\u001b[38;5;241;43m=\u001b[39;49m\u001b[43mddof\u001b[49m\u001b[43m)\u001b[49m[\u001b[38;5;241m0\u001b[39m, \u001b[38;5;241m1\u001b[39m]\n",
      "File \u001b[1;32m<__array_function__ internals>:5\u001b[0m, in \u001b[0;36mcov\u001b[1;34m(*args, **kwargs)\u001b[0m\n",
      "File \u001b[1;32m~\\anaconda3\\lib\\site-packages\\numpy\\lib\\function_base.py:2518\u001b[0m, in \u001b[0;36mcov\u001b[1;34m(m, y, rowvar, bias, ddof, fweights, aweights, dtype)\u001b[0m\n\u001b[0;32m   2515\u001b[0m     \u001b[38;5;28;01melse\u001b[39;00m:\n\u001b[0;32m   2516\u001b[0m         w \u001b[38;5;241m*\u001b[39m\u001b[38;5;241m=\u001b[39m aweights\n\u001b[1;32m-> 2518\u001b[0m avg, w_sum \u001b[38;5;241m=\u001b[39m \u001b[43maverage\u001b[49m\u001b[43m(\u001b[49m\u001b[43mX\u001b[49m\u001b[43m,\u001b[49m\u001b[43m \u001b[49m\u001b[43maxis\u001b[49m\u001b[38;5;241;43m=\u001b[39;49m\u001b[38;5;241;43m1\u001b[39;49m\u001b[43m,\u001b[49m\u001b[43m \u001b[49m\u001b[43mweights\u001b[49m\u001b[38;5;241;43m=\u001b[39;49m\u001b[43mw\u001b[49m\u001b[43m,\u001b[49m\u001b[43m \u001b[49m\u001b[43mreturned\u001b[49m\u001b[38;5;241;43m=\u001b[39;49m\u001b[38;5;28;43;01mTrue\u001b[39;49;00m\u001b[43m)\u001b[49m\n\u001b[0;32m   2519\u001b[0m w_sum \u001b[38;5;241m=\u001b[39m w_sum[\u001b[38;5;241m0\u001b[39m]\n\u001b[0;32m   2521\u001b[0m \u001b[38;5;66;03m# Determine the normalization\u001b[39;00m\n",
      "File \u001b[1;32m<__array_function__ internals>:5\u001b[0m, in \u001b[0;36maverage\u001b[1;34m(*args, **kwargs)\u001b[0m\n",
      "File \u001b[1;32m~\\anaconda3\\lib\\site-packages\\numpy\\lib\\function_base.py:380\u001b[0m, in \u001b[0;36maverage\u001b[1;34m(a, axis, weights, returned)\u001b[0m\n\u001b[0;32m    377\u001b[0m a \u001b[38;5;241m=\u001b[39m np\u001b[38;5;241m.\u001b[39masanyarray(a)\n\u001b[0;32m    379\u001b[0m \u001b[38;5;28;01mif\u001b[39;00m weights \u001b[38;5;129;01mis\u001b[39;00m \u001b[38;5;28;01mNone\u001b[39;00m:\n\u001b[1;32m--> 380\u001b[0m     avg \u001b[38;5;241m=\u001b[39m \u001b[43ma\u001b[49m\u001b[38;5;241;43m.\u001b[39;49m\u001b[43mmean\u001b[49m\u001b[43m(\u001b[49m\u001b[43maxis\u001b[49m\u001b[43m)\u001b[49m\n\u001b[0;32m    381\u001b[0m     scl \u001b[38;5;241m=\u001b[39m avg\u001b[38;5;241m.\u001b[39mdtype\u001b[38;5;241m.\u001b[39mtype(a\u001b[38;5;241m.\u001b[39msize\u001b[38;5;241m/\u001b[39mavg\u001b[38;5;241m.\u001b[39msize)\n\u001b[0;32m    382\u001b[0m \u001b[38;5;28;01melse\u001b[39;00m:\n",
      "File \u001b[1;32m~\\anaconda3\\lib\\site-packages\\numpy\\core\\_methods.py:181\u001b[0m, in \u001b[0;36m_mean\u001b[1;34m(a, axis, dtype, out, keepdims, where)\u001b[0m\n\u001b[0;32m    179\u001b[0m ret \u001b[38;5;241m=\u001b[39m umr_sum(arr, axis, dtype, out, keepdims, where\u001b[38;5;241m=\u001b[39mwhere)\n\u001b[0;32m    180\u001b[0m \u001b[38;5;28;01mif\u001b[39;00m \u001b[38;5;28misinstance\u001b[39m(ret, mu\u001b[38;5;241m.\u001b[39mndarray):\n\u001b[1;32m--> 181\u001b[0m     ret \u001b[38;5;241m=\u001b[39m \u001b[43mum\u001b[49m\u001b[38;5;241;43m.\u001b[39;49m\u001b[43mtrue_divide\u001b[49m\u001b[43m(\u001b[49m\n\u001b[0;32m    182\u001b[0m \u001b[43m            \u001b[49m\u001b[43mret\u001b[49m\u001b[43m,\u001b[49m\u001b[43m \u001b[49m\u001b[43mrcount\u001b[49m\u001b[43m,\u001b[49m\u001b[43m \u001b[49m\u001b[43mout\u001b[49m\u001b[38;5;241;43m=\u001b[39;49m\u001b[43mret\u001b[49m\u001b[43m,\u001b[49m\u001b[43m \u001b[49m\u001b[43mcasting\u001b[49m\u001b[38;5;241;43m=\u001b[39;49m\u001b[38;5;124;43m'\u001b[39;49m\u001b[38;5;124;43munsafe\u001b[39;49m\u001b[38;5;124;43m'\u001b[39;49m\u001b[43m,\u001b[49m\u001b[43m \u001b[49m\u001b[43msubok\u001b[49m\u001b[38;5;241;43m=\u001b[39;49m\u001b[38;5;28;43;01mFalse\u001b[39;49;00m\u001b[43m)\u001b[49m\n\u001b[0;32m    183\u001b[0m     \u001b[38;5;28;01mif\u001b[39;00m is_float16_result \u001b[38;5;129;01mand\u001b[39;00m out \u001b[38;5;129;01mis\u001b[39;00m \u001b[38;5;28;01mNone\u001b[39;00m:\n\u001b[0;32m    184\u001b[0m         ret \u001b[38;5;241m=\u001b[39m arr\u001b[38;5;241m.\u001b[39mdtype\u001b[38;5;241m.\u001b[39mtype(ret)\n",
      "\u001b[1;31mTypeError\u001b[0m: unsupported operand type(s) for /: 'str' and 'int'"
     ]
    }
   ],
   "source": [
    "for column1 in df.columns:\n",
    "    for column2 in df.columns:\n",
    "        if column1 == column2:\n",
    "            pass\n",
    "        else: \n",
    "            print(f'First column: {column1} , Second column: {column2} , Correlation: {df[column1].cov(df[column2])}')"
   ]
  },
  {
   "cell_type": "markdown",
   "id": "e4dd64e5",
   "metadata": {},
   "source": [
    "# -- The End "
   ]
  }
 ],
 "metadata": {
  "kernelspec": {
   "display_name": "Python 3 (ipykernel)",
   "language": "python",
   "name": "python3"
  },
  "language_info": {
   "codemirror_mode": {
    "name": "ipython",
    "version": 3
   },
   "file_extension": ".py",
   "mimetype": "text/x-python",
   "name": "python",
   "nbconvert_exporter": "python",
   "pygments_lexer": "ipython3",
   "version": "3.9.12"
  }
 },
 "nbformat": 4,
 "nbformat_minor": 5
}
